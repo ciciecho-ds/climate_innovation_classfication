{
  "nbformat": 4,
  "nbformat_minor": 0,
  "metadata": {
    "colab": {
      "provenance": []
    },
    "kernelspec": {
      "name": "python3",
      "display_name": "Python 3"
    },
    "language_info": {
      "name": "python"
    }
  },
  "cells": [
    {
      "cell_type": "code",
      "execution_count": null,
      "metadata": {
        "id": "4WEvW_EhitXC"
      },
      "outputs": [],
      "source": [
        "import pandas as pd"
      ]
    },
    {
      "cell_type": "markdown",
      "source": [
        "## Label Data\n",
        "\n",
        "I manually labeled this dataset downloaded from SciVal with publications information. The objective here is to use the selected columns to predict whether a publication is related to \"Climate Innovation.\""
      ],
      "metadata": {
        "id": "aKJ_cnwxjoXz"
      }
    },
    {
      "cell_type": "markdown",
      "source": [
        "## Read in Data"
      ],
      "metadata": {
        "id": "89hjGWyFj6Y1"
      }
    },
    {
      "cell_type": "code",
      "source": [
        "df = pd.read_excel('/content/drive/MyDrive/Colab Notebooks/CI_pubs_project/CI_publications.xlsx')"
      ],
      "metadata": {
        "id": "PW2UXNJFivOh"
      },
      "execution_count": null,
      "outputs": []
    },
    {
      "cell_type": "code",
      "source": [
        "df.head()"
      ],
      "metadata": {
        "colab": {
          "base_uri": "https://localhost:8080/",
          "height": 660
        },
        "id": "rZqH7p-0i0mI",
        "outputId": "c6a3ac58-4b2b-4d92-8388-1c3bb4b44083"
      },
      "execution_count": null,
      "outputs": [
        {
          "output_type": "execute_result",
          "data": {
            "text/plain": [
              "   Index CI related?                                              Title  \\\n",
              "0      1           N  CARD 2020: Antibiotic resistome surveillance w...   \n",
              "1      2           N  CARD 2023: expanded curation, support for mach...   \n",
              "2      3           N  Extended reality in spatial sciences: A review...   \n",
              "3      4           N  Decreasing antibiotic use, the gut microbiota,...   \n",
              "4      5           N  Metagenome-assembled genome binning methods wi...   \n",
              "\n",
              "                                            Abstract  \\\n",
              "0  https://www.scopus.com/record/display.url?eid=...   \n",
              "1  https://www.scopus.com/record/display.url?eid=...   \n",
              "2  https://www.scopus.com/record/display.url?eid=...   \n",
              "3  https://www.scopus.com/record/display.url?eid=...   \n",
              "4  https://www.scopus.com/record/display.url?eid=...   \n",
              "\n",
              "                             DOI  \\\n",
              "0             10.1093/nar/gkz935   \n",
              "1            10.1093/nar/gkac920   \n",
              "2            10.3390/ijgi9070439   \n",
              "3  10.1016/S2213-2600(20)30052-7   \n",
              "4          10.1099/mgen.0.000436   \n",
              "\n",
              "                              Scopus Source title  \\\n",
              "0                          Nucleic Acids Research   \n",
              "1                          Nucleic Acids Research   \n",
              "2  ISPRS International Journal of Geo-Information   \n",
              "3                 The Lancet Respiratory Medicine   \n",
              "4                              Microbial Genomics   \n",
              "\n",
              "  All Science Journal Classification (ASJC) field name  \\\n",
              "0                                           Genetics     \n",
              "1                                           Genetics     \n",
              "2  Earth and Planetary Sciences (miscellaneous)| ...     \n",
              "3                 Pulmonary and Respiratory Medicine     \n",
              "4  Genetics| Molecular Biology| Microbiology| Epi...     \n",
              "\n",
              "   Quacquarelli Symonds (QS) Subject area field name  \\\n",
              "0                           Life Sciences & Medicine   \n",
              "1                           Life Sciences & Medicine   \n",
              "2  Natural Sciences| Social Sciences & Management...   \n",
              "3                           Life Sciences & Medicine   \n",
              "4                           Life Sciences & Medicine   \n",
              "\n",
              "        Quacquarelli Symonds (QS) Subject field name  \\\n",
              "0                                Biological Sciences   \n",
              "1                                Biological Sciences   \n",
              "2  Geophysics| Earth & Marine Sciences| Engineeri...   \n",
              "3                                           Medicine   \n",
              "4                      Medicine| Biological Sciences   \n",
              "\n",
              "  Times Higher Education (THE) field name  \\\n",
              "0                           Life Sciences   \n",
              "1                           Life Sciences   \n",
              "2      Social Sciences| Physical Sciences   \n",
              "3                     Clinical and Health   \n",
              "4      Clinical and Health| Life Sciences   \n",
              "\n",
              "                       ANZSRC FoR (2020) parent name  \\\n",
              "0  Biological Sciences| Environmental Sciences| C...   \n",
              "1  Biological Sciences| Chemical Sciences| Enviro...   \n",
              "2                        Engineering| Earth Sciences   \n",
              "3                   Biomedical And Clinical Sciences   \n",
              "4                                Biological Sciences   \n",
              "\n",
              "  Sustainable Development Goals (2023)  \\\n",
              "0                                    -   \n",
              "1                                SDG 3   \n",
              "2                                    -   \n",
              "3                                SDG 3   \n",
              "4                                    -   \n",
              "\n",
              "                                  Topic Cluster name Topic Cluster number  \\\n",
              "0    Nucleic Acid Hybridization; DNA; RNA Sequencing                   40   \n",
              "1  Multiple Drug Resistance; Carbapenem; Antibiotics                   21   \n",
              "2  Augmented Reality; Gesture Recognition; Image ...                  362   \n",
              "3          Quality of Life; Severe Asthma; Magnesium                   11   \n",
              "4                  Gut Microbiota; Metagenomics; DNA                   80   \n",
              "\n",
              "                                          Topic name Topic number  \n",
              "0        Bacterial Genome; DNA Sequence; Pseudomonas         7289  \n",
              "1  Antibiotic Resistance; Bacterial Gene; Metagen...          680  \n",
              "2  Virtual Reality; Engineering Education; Comput...         2107  \n",
              "3          Asthma; Antiinfective Agent; Cohort Study        83790  \n",
              "4  Metagenome; DNA Sequence; Next Generation Sequ...         9066  "
            ],
            "text/html": [
              "\n",
              "  <div id=\"df-b870a9b6-ce1d-4344-b463-9187da4fbd9e\" class=\"colab-df-container\">\n",
              "    <div>\n",
              "<style scoped>\n",
              "    .dataframe tbody tr th:only-of-type {\n",
              "        vertical-align: middle;\n",
              "    }\n",
              "\n",
              "    .dataframe tbody tr th {\n",
              "        vertical-align: top;\n",
              "    }\n",
              "\n",
              "    .dataframe thead th {\n",
              "        text-align: right;\n",
              "    }\n",
              "</style>\n",
              "<table border=\"1\" class=\"dataframe\">\n",
              "  <thead>\n",
              "    <tr style=\"text-align: right;\">\n",
              "      <th></th>\n",
              "      <th>Index</th>\n",
              "      <th>CI related?</th>\n",
              "      <th>Title</th>\n",
              "      <th>Abstract</th>\n",
              "      <th>DOI</th>\n",
              "      <th>Scopus Source title</th>\n",
              "      <th>All Science Journal Classification (ASJC) field name</th>\n",
              "      <th>Quacquarelli Symonds (QS) Subject area field name</th>\n",
              "      <th>Quacquarelli Symonds (QS) Subject field name</th>\n",
              "      <th>Times Higher Education (THE) field name</th>\n",
              "      <th>ANZSRC FoR (2020) parent name</th>\n",
              "      <th>Sustainable Development Goals (2023)</th>\n",
              "      <th>Topic Cluster name</th>\n",
              "      <th>Topic Cluster number</th>\n",
              "      <th>Topic name</th>\n",
              "      <th>Topic number</th>\n",
              "    </tr>\n",
              "  </thead>\n",
              "  <tbody>\n",
              "    <tr>\n",
              "      <th>0</th>\n",
              "      <td>1</td>\n",
              "      <td>N</td>\n",
              "      <td>CARD 2020: Antibiotic resistome surveillance w...</td>\n",
              "      <td>https://www.scopus.com/record/display.url?eid=...</td>\n",
              "      <td>10.1093/nar/gkz935</td>\n",
              "      <td>Nucleic Acids Research</td>\n",
              "      <td>Genetics</td>\n",
              "      <td>Life Sciences &amp; Medicine</td>\n",
              "      <td>Biological Sciences</td>\n",
              "      <td>Life Sciences</td>\n",
              "      <td>Biological Sciences| Environmental Sciences| C...</td>\n",
              "      <td>-</td>\n",
              "      <td>Nucleic Acid Hybridization; DNA; RNA Sequencing</td>\n",
              "      <td>40</td>\n",
              "      <td>Bacterial Genome; DNA Sequence; Pseudomonas</td>\n",
              "      <td>7289</td>\n",
              "    </tr>\n",
              "    <tr>\n",
              "      <th>1</th>\n",
              "      <td>2</td>\n",
              "      <td>N</td>\n",
              "      <td>CARD 2023: expanded curation, support for mach...</td>\n",
              "      <td>https://www.scopus.com/record/display.url?eid=...</td>\n",
              "      <td>10.1093/nar/gkac920</td>\n",
              "      <td>Nucleic Acids Research</td>\n",
              "      <td>Genetics</td>\n",
              "      <td>Life Sciences &amp; Medicine</td>\n",
              "      <td>Biological Sciences</td>\n",
              "      <td>Life Sciences</td>\n",
              "      <td>Biological Sciences| Chemical Sciences| Enviro...</td>\n",
              "      <td>SDG 3</td>\n",
              "      <td>Multiple Drug Resistance; Carbapenem; Antibiotics</td>\n",
              "      <td>21</td>\n",
              "      <td>Antibiotic Resistance; Bacterial Gene; Metagen...</td>\n",
              "      <td>680</td>\n",
              "    </tr>\n",
              "    <tr>\n",
              "      <th>2</th>\n",
              "      <td>3</td>\n",
              "      <td>N</td>\n",
              "      <td>Extended reality in spatial sciences: A review...</td>\n",
              "      <td>https://www.scopus.com/record/display.url?eid=...</td>\n",
              "      <td>10.3390/ijgi9070439</td>\n",
              "      <td>ISPRS International Journal of Geo-Information</td>\n",
              "      <td>Earth and Planetary Sciences (miscellaneous)| ...</td>\n",
              "      <td>Natural Sciences| Social Sciences &amp; Management...</td>\n",
              "      <td>Geophysics| Earth &amp; Marine Sciences| Engineeri...</td>\n",
              "      <td>Social Sciences| Physical Sciences</td>\n",
              "      <td>Engineering| Earth Sciences</td>\n",
              "      <td>-</td>\n",
              "      <td>Augmented Reality; Gesture Recognition; Image ...</td>\n",
              "      <td>362</td>\n",
              "      <td>Virtual Reality; Engineering Education; Comput...</td>\n",
              "      <td>2107</td>\n",
              "    </tr>\n",
              "    <tr>\n",
              "      <th>3</th>\n",
              "      <td>4</td>\n",
              "      <td>N</td>\n",
              "      <td>Decreasing antibiotic use, the gut microbiota,...</td>\n",
              "      <td>https://www.scopus.com/record/display.url?eid=...</td>\n",
              "      <td>10.1016/S2213-2600(20)30052-7</td>\n",
              "      <td>The Lancet Respiratory Medicine</td>\n",
              "      <td>Pulmonary and Respiratory Medicine</td>\n",
              "      <td>Life Sciences &amp; Medicine</td>\n",
              "      <td>Medicine</td>\n",
              "      <td>Clinical and Health</td>\n",
              "      <td>Biomedical And Clinical Sciences</td>\n",
              "      <td>SDG 3</td>\n",
              "      <td>Quality of Life; Severe Asthma; Magnesium</td>\n",
              "      <td>11</td>\n",
              "      <td>Asthma; Antiinfective Agent; Cohort Study</td>\n",
              "      <td>83790</td>\n",
              "    </tr>\n",
              "    <tr>\n",
              "      <th>4</th>\n",
              "      <td>5</td>\n",
              "      <td>N</td>\n",
              "      <td>Metagenome-assembled genome binning methods wi...</td>\n",
              "      <td>https://www.scopus.com/record/display.url?eid=...</td>\n",
              "      <td>10.1099/mgen.0.000436</td>\n",
              "      <td>Microbial Genomics</td>\n",
              "      <td>Genetics| Molecular Biology| Microbiology| Epi...</td>\n",
              "      <td>Life Sciences &amp; Medicine</td>\n",
              "      <td>Medicine| Biological Sciences</td>\n",
              "      <td>Clinical and Health| Life Sciences</td>\n",
              "      <td>Biological Sciences</td>\n",
              "      <td>-</td>\n",
              "      <td>Gut Microbiota; Metagenomics; DNA</td>\n",
              "      <td>80</td>\n",
              "      <td>Metagenome; DNA Sequence; Next Generation Sequ...</td>\n",
              "      <td>9066</td>\n",
              "    </tr>\n",
              "  </tbody>\n",
              "</table>\n",
              "</div>\n",
              "    <div class=\"colab-df-buttons\">\n",
              "\n",
              "  <div class=\"colab-df-container\">\n",
              "    <button class=\"colab-df-convert\" onclick=\"convertToInteractive('df-b870a9b6-ce1d-4344-b463-9187da4fbd9e')\"\n",
              "            title=\"Convert this dataframe to an interactive table.\"\n",
              "            style=\"display:none;\">\n",
              "\n",
              "  <svg xmlns=\"http://www.w3.org/2000/svg\" height=\"24px\" viewBox=\"0 -960 960 960\">\n",
              "    <path d=\"M120-120v-720h720v720H120Zm60-500h600v-160H180v160Zm220 220h160v-160H400v160Zm0 220h160v-160H400v160ZM180-400h160v-160H180v160Zm440 0h160v-160H620v160ZM180-180h160v-160H180v160Zm440 0h160v-160H620v160Z\"/>\n",
              "  </svg>\n",
              "    </button>\n",
              "\n",
              "  <style>\n",
              "    .colab-df-container {\n",
              "      display:flex;\n",
              "      gap: 12px;\n",
              "    }\n",
              "\n",
              "    .colab-df-convert {\n",
              "      background-color: #E8F0FE;\n",
              "      border: none;\n",
              "      border-radius: 50%;\n",
              "      cursor: pointer;\n",
              "      display: none;\n",
              "      fill: #1967D2;\n",
              "      height: 32px;\n",
              "      padding: 0 0 0 0;\n",
              "      width: 32px;\n",
              "    }\n",
              "\n",
              "    .colab-df-convert:hover {\n",
              "      background-color: #E2EBFA;\n",
              "      box-shadow: 0px 1px 2px rgba(60, 64, 67, 0.3), 0px 1px 3px 1px rgba(60, 64, 67, 0.15);\n",
              "      fill: #174EA6;\n",
              "    }\n",
              "\n",
              "    .colab-df-buttons div {\n",
              "      margin-bottom: 4px;\n",
              "    }\n",
              "\n",
              "    [theme=dark] .colab-df-convert {\n",
              "      background-color: #3B4455;\n",
              "      fill: #D2E3FC;\n",
              "    }\n",
              "\n",
              "    [theme=dark] .colab-df-convert:hover {\n",
              "      background-color: #434B5C;\n",
              "      box-shadow: 0px 1px 3px 1px rgba(0, 0, 0, 0.15);\n",
              "      filter: drop-shadow(0px 1px 2px rgba(0, 0, 0, 0.3));\n",
              "      fill: #FFFFFF;\n",
              "    }\n",
              "  </style>\n",
              "\n",
              "    <script>\n",
              "      const buttonEl =\n",
              "        document.querySelector('#df-b870a9b6-ce1d-4344-b463-9187da4fbd9e button.colab-df-convert');\n",
              "      buttonEl.style.display =\n",
              "        google.colab.kernel.accessAllowed ? 'block' : 'none';\n",
              "\n",
              "      async function convertToInteractive(key) {\n",
              "        const element = document.querySelector('#df-b870a9b6-ce1d-4344-b463-9187da4fbd9e');\n",
              "        const dataTable =\n",
              "          await google.colab.kernel.invokeFunction('convertToInteractive',\n",
              "                                                    [key], {});\n",
              "        if (!dataTable) return;\n",
              "\n",
              "        const docLinkHtml = 'Like what you see? Visit the ' +\n",
              "          '<a target=\"_blank\" href=https://colab.research.google.com/notebooks/data_table.ipynb>data table notebook</a>'\n",
              "          + ' to learn more about interactive tables.';\n",
              "        element.innerHTML = '';\n",
              "        dataTable['output_type'] = 'display_data';\n",
              "        await google.colab.output.renderOutput(dataTable, element);\n",
              "        const docLink = document.createElement('div');\n",
              "        docLink.innerHTML = docLinkHtml;\n",
              "        element.appendChild(docLink);\n",
              "      }\n",
              "    </script>\n",
              "  </div>\n",
              "\n",
              "\n",
              "<div id=\"df-9116f834-96f3-4951-8c31-33257dbe4308\">\n",
              "  <button class=\"colab-df-quickchart\" onclick=\"quickchart('df-9116f834-96f3-4951-8c31-33257dbe4308')\"\n",
              "            title=\"Suggest charts\"\n",
              "            style=\"display:none;\">\n",
              "\n",
              "<svg xmlns=\"http://www.w3.org/2000/svg\" height=\"24px\"viewBox=\"0 0 24 24\"\n",
              "     width=\"24px\">\n",
              "    <g>\n",
              "        <path d=\"M19 3H5c-1.1 0-2 .9-2 2v14c0 1.1.9 2 2 2h14c1.1 0 2-.9 2-2V5c0-1.1-.9-2-2-2zM9 17H7v-7h2v7zm4 0h-2V7h2v10zm4 0h-2v-4h2v4z\"/>\n",
              "    </g>\n",
              "</svg>\n",
              "  </button>\n",
              "\n",
              "<style>\n",
              "  .colab-df-quickchart {\n",
              "      --bg-color: #E8F0FE;\n",
              "      --fill-color: #1967D2;\n",
              "      --hover-bg-color: #E2EBFA;\n",
              "      --hover-fill-color: #174EA6;\n",
              "      --disabled-fill-color: #AAA;\n",
              "      --disabled-bg-color: #DDD;\n",
              "  }\n",
              "\n",
              "  [theme=dark] .colab-df-quickchart {\n",
              "      --bg-color: #3B4455;\n",
              "      --fill-color: #D2E3FC;\n",
              "      --hover-bg-color: #434B5C;\n",
              "      --hover-fill-color: #FFFFFF;\n",
              "      --disabled-bg-color: #3B4455;\n",
              "      --disabled-fill-color: #666;\n",
              "  }\n",
              "\n",
              "  .colab-df-quickchart {\n",
              "    background-color: var(--bg-color);\n",
              "    border: none;\n",
              "    border-radius: 50%;\n",
              "    cursor: pointer;\n",
              "    display: none;\n",
              "    fill: var(--fill-color);\n",
              "    height: 32px;\n",
              "    padding: 0;\n",
              "    width: 32px;\n",
              "  }\n",
              "\n",
              "  .colab-df-quickchart:hover {\n",
              "    background-color: var(--hover-bg-color);\n",
              "    box-shadow: 0 1px 2px rgba(60, 64, 67, 0.3), 0 1px 3px 1px rgba(60, 64, 67, 0.15);\n",
              "    fill: var(--button-hover-fill-color);\n",
              "  }\n",
              "\n",
              "  .colab-df-quickchart-complete:disabled,\n",
              "  .colab-df-quickchart-complete:disabled:hover {\n",
              "    background-color: var(--disabled-bg-color);\n",
              "    fill: var(--disabled-fill-color);\n",
              "    box-shadow: none;\n",
              "  }\n",
              "\n",
              "  .colab-df-spinner {\n",
              "    border: 2px solid var(--fill-color);\n",
              "    border-color: transparent;\n",
              "    border-bottom-color: var(--fill-color);\n",
              "    animation:\n",
              "      spin 1s steps(1) infinite;\n",
              "  }\n",
              "\n",
              "  @keyframes spin {\n",
              "    0% {\n",
              "      border-color: transparent;\n",
              "      border-bottom-color: var(--fill-color);\n",
              "      border-left-color: var(--fill-color);\n",
              "    }\n",
              "    20% {\n",
              "      border-color: transparent;\n",
              "      border-left-color: var(--fill-color);\n",
              "      border-top-color: var(--fill-color);\n",
              "    }\n",
              "    30% {\n",
              "      border-color: transparent;\n",
              "      border-left-color: var(--fill-color);\n",
              "      border-top-color: var(--fill-color);\n",
              "      border-right-color: var(--fill-color);\n",
              "    }\n",
              "    40% {\n",
              "      border-color: transparent;\n",
              "      border-right-color: var(--fill-color);\n",
              "      border-top-color: var(--fill-color);\n",
              "    }\n",
              "    60% {\n",
              "      border-color: transparent;\n",
              "      border-right-color: var(--fill-color);\n",
              "    }\n",
              "    80% {\n",
              "      border-color: transparent;\n",
              "      border-right-color: var(--fill-color);\n",
              "      border-bottom-color: var(--fill-color);\n",
              "    }\n",
              "    90% {\n",
              "      border-color: transparent;\n",
              "      border-bottom-color: var(--fill-color);\n",
              "    }\n",
              "  }\n",
              "</style>\n",
              "\n",
              "  <script>\n",
              "    async function quickchart(key) {\n",
              "      const quickchartButtonEl =\n",
              "        document.querySelector('#' + key + ' button');\n",
              "      quickchartButtonEl.disabled = true;  // To prevent multiple clicks.\n",
              "      quickchartButtonEl.classList.add('colab-df-spinner');\n",
              "      try {\n",
              "        const charts = await google.colab.kernel.invokeFunction(\n",
              "            'suggestCharts', [key], {});\n",
              "      } catch (error) {\n",
              "        console.error('Error during call to suggestCharts:', error);\n",
              "      }\n",
              "      quickchartButtonEl.classList.remove('colab-df-spinner');\n",
              "      quickchartButtonEl.classList.add('colab-df-quickchart-complete');\n",
              "    }\n",
              "    (() => {\n",
              "      let quickchartButtonEl =\n",
              "        document.querySelector('#df-9116f834-96f3-4951-8c31-33257dbe4308 button');\n",
              "      quickchartButtonEl.style.display =\n",
              "        google.colab.kernel.accessAllowed ? 'block' : 'none';\n",
              "    })();\n",
              "  </script>\n",
              "</div>\n",
              "\n",
              "    </div>\n",
              "  </div>\n"
            ],
            "application/vnd.google.colaboratory.intrinsic+json": {
              "type": "dataframe",
              "variable_name": "df",
              "summary": "{\n  \"name\": \"df\",\n  \"rows\": 410,\n  \"fields\": [\n    {\n      \"column\": \"Index\",\n      \"properties\": {\n        \"dtype\": \"number\",\n        \"std\": 118,\n        \"min\": 1,\n        \"max\": 410,\n        \"num_unique_values\": 410,\n        \"samples\": [\n          173,\n          138,\n          127\n        ],\n        \"semantic_type\": \"\",\n        \"description\": \"\"\n      }\n    },\n    {\n      \"column\": \"CI related?\",\n      \"properties\": {\n        \"dtype\": \"category\",\n        \"num_unique_values\": 2,\n        \"samples\": [\n          \"Y\",\n          \"N\"\n        ],\n        \"semantic_type\": \"\",\n        \"description\": \"\"\n      }\n    },\n    {\n      \"column\": \"Title\",\n      \"properties\": {\n        \"dtype\": \"string\",\n        \"num_unique_values\": 410,\n        \"samples\": [\n          \"Healthy memory aging - the benefits of regular daily activities increase with age\",\n          \"Urban heat island impacts on heat-related cardiovascular morbidity: A time series analysis of older adults in US metropolitan areas\"\n        ],\n        \"semantic_type\": \"\",\n        \"description\": \"\"\n      }\n    },\n    {\n      \"column\": \"Abstract\",\n      \"properties\": {\n        \"dtype\": \"string\",\n        \"num_unique_values\": 410,\n        \"samples\": [\n          \"https://www.scopus.com/record/display.url?eid=2-s2.0-85123116772&origin=resultslist\",\n          \"https://www.scopus.com/record/display.url?eid=2-s2.0-85164374614&origin=resultslist\"\n        ],\n        \"semantic_type\": \"\",\n        \"description\": \"\"\n      }\n    },\n    {\n      \"column\": \"DOI\",\n      \"properties\": {\n        \"dtype\": \"string\",\n        \"num_unique_values\": 405,\n        \"samples\": [\n          \"10.1016/j.jpowsour.2020.228352\",\n          \"10.1145/3334480.3381059\"\n        ],\n        \"semantic_type\": \"\",\n        \"description\": \"\"\n      }\n    },\n    {\n      \"column\": \"Scopus Source title\",\n      \"properties\": {\n        \"dtype\": \"string\",\n        \"num_unique_values\": 254,\n        \"samples\": [\n          \"Gerontechnology\",\n          \"Journals of Gerontology - Series B Psychological Sciences and Social Sciences\"\n        ],\n        \"semantic_type\": \"\",\n        \"description\": \"\"\n      }\n    },\n    {\n      \"column\": \"All Science Journal Classification (ASJC) field name\",\n      \"properties\": {\n        \"dtype\": \"string\",\n        \"num_unique_values\": 210,\n        \"samples\": [\n          \"Microbiology| Microbiology (medical)\",\n          \"Dentistry (miscellaneous)| Oral Surgery| Periodontics\"\n        ],\n        \"semantic_type\": \"\",\n        \"description\": \"\"\n      }\n    },\n    {\n      \"column\": \"Quacquarelli Symonds (QS) Subject area field name\",\n      \"properties\": {\n        \"dtype\": \"category\",\n        \"num_unique_values\": 42,\n        \"samples\": [\n          \"Social Sciences & Management| Life Sciences & Medicine| Engineering & Technology\",\n          \"Engineering & Technology| Social Sciences & Management| Natural Sciences\"\n        ],\n        \"semantic_type\": \"\",\n        \"description\": \"\"\n      }\n    },\n    {\n      \"column\": \"Quacquarelli Symonds (QS) Subject field name\",\n      \"properties\": {\n        \"dtype\": \"category\",\n        \"num_unique_values\": 190,\n        \"samples\": [\n          \"Geophysics| Engineering - Mineral & Mining| Geology| Engineering - Petroleum| Earth & Marine Sciences\",\n          \"Nursing| Medicine| Business & Management Studies\"\n        ],\n        \"semantic_type\": \"\",\n        \"description\": \"\"\n      }\n    },\n    {\n      \"column\": \"Times Higher Education (THE) field name\",\n      \"properties\": {\n        \"dtype\": \"category\",\n        \"num_unique_values\": 79,\n        \"samples\": [\n          \"Physical Sciences| Social Sciences\",\n          \"Life Sciences\"\n        ],\n        \"semantic_type\": \"\",\n        \"description\": \"\"\n      }\n    },\n    {\n      \"column\": \"ANZSRC FoR (2020) parent name\",\n      \"properties\": {\n        \"dtype\": \"category\",\n        \"num_unique_values\": 118,\n        \"samples\": [\n          \"Built Environment And Design| Commerce, Management, Tourism And Services\",\n          \"Human Society| Environmental Sciences| Earth Sciences\"\n        ],\n        \"semantic_type\": \"\",\n        \"description\": \"\"\n      }\n    },\n    {\n      \"column\": \"Sustainable Development Goals (2023)\",\n      \"properties\": {\n        \"dtype\": \"category\",\n        \"num_unique_values\": 72,\n        \"samples\": [\n          \"SDG 3| SDG 11\",\n          \"SDG 4| SDG 12| SDG 16\"\n        ],\n        \"semantic_type\": \"\",\n        \"description\": \"\"\n      }\n    },\n    {\n      \"column\": \"Topic Cluster name\",\n      \"properties\": {\n        \"dtype\": \"category\",\n        \"num_unique_values\": 117,\n        \"samples\": [\n          \"Cost Benefit Analysis; Clinical Trial; Quality of Life\",\n          \"Gut Microbiota; Metagenomics; DNA\"\n        ],\n        \"semantic_type\": \"\",\n        \"description\": \"\"\n      }\n    },\n    {\n      \"column\": \"Topic Cluster number\",\n      \"properties\": {\n        \"dtype\": \"category\",\n        \"num_unique_values\": 117,\n        \"samples\": [\n          743,\n          80\n        ],\n        \"semantic_type\": \"\",\n        \"description\": \"\"\n      }\n    },\n    {\n      \"column\": \"Topic name\",\n      \"properties\": {\n        \"dtype\": \"category\",\n        \"num_unique_values\": 193,\n        \"samples\": [\n          \"Virtual Reality; Human Computer Interaction; Industry 4.0\",\n          \"Respiratory System; Computer Assisted Tomography; Airflow\"\n        ],\n        \"semantic_type\": \"\",\n        \"description\": \"\"\n      }\n    },\n    {\n      \"column\": \"Topic number\",\n      \"properties\": {\n        \"dtype\": \"category\",\n        \"num_unique_values\": 193,\n        \"samples\": [\n          726,\n          3485\n        ],\n        \"semantic_type\": \"\",\n        \"description\": \"\"\n      }\n    }\n  ]\n}"
            }
          },
          "metadata": {},
          "execution_count": 3
        }
      ]
    },
    {
      "cell_type": "code",
      "source": [
        "# Code the target variable\n",
        "df['Target'] = df['CI related?'].replace({'Y': 1, 'N': 0})"
      ],
      "metadata": {
        "id": "ULIOxXIfjfdf"
      },
      "execution_count": null,
      "outputs": []
    },
    {
      "cell_type": "code",
      "source": [
        "# Look at the percentages of the target variable value counts\n",
        "df['Target'].value_counts(normalize=True) * 100\n",
        "\n",
        "#Shows that the data set is fairly balanced"
      ],
      "metadata": {
        "colab": {
          "base_uri": "https://localhost:8080/"
        },
        "id": "Y4FaEf_qkZXW",
        "outputId": "58f086dd-de38-42e1-e21c-7f642251d14b"
      },
      "execution_count": null,
      "outputs": [
        {
          "output_type": "execute_result",
          "data": {
            "text/plain": [
              "Target\n",
              "0    58.780488\n",
              "1    41.219512\n",
              "Name: proportion, dtype: float64"
            ]
          },
          "metadata": {},
          "execution_count": 5
        }
      ]
    },
    {
      "cell_type": "code",
      "source": [
        "# Seperate the data into train, validation and test data sets\n",
        "from sklearn.model_selection import train_test_split\n",
        "\n",
        "# Define the proportions for the train, validation, and test sets\n",
        "train_size = 0.6\n",
        "validation_size = 0.2\n",
        "test_size = 0.2\n",
        "\n",
        "# First, split the dataset into train and temp sets\n",
        "train_df, temp_df = train_test_split(df, test_size=(1 - train_size), random_state=42)\n",
        "\n",
        "# Then, split the temp set into validation and test sets\n",
        "validation_df, test_df = train_test_split(temp_df, test_size=(test_size / (test_size + validation_size)), random_state=42)\n",
        "\n",
        "# Display the sizes of the splits\n",
        "print(\"Training set size:\", len(train_df))\n",
        "print(\"Validation set size:\", len(validation_df))\n",
        "print(\"Test set size:\", len(test_df))"
      ],
      "metadata": {
        "colab": {
          "base_uri": "https://localhost:8080/"
        },
        "id": "WGSNqZYkkZzO",
        "outputId": "2bde6ae6-cd1d-4875-bc74-0f84ea00f40e"
      },
      "execution_count": null,
      "outputs": [
        {
          "output_type": "stream",
          "name": "stdout",
          "text": [
            "Training set size: 246\n",
            "Validation set size: 82\n",
            "Test set size: 82\n"
          ]
        }
      ]
    },
    {
      "cell_type": "code",
      "source": [
        "# Save the three data sets\n",
        "train_df.to_csv('/content/drive/MyDrive/Colab Notebooks/CI_pubs_project/data/train_data.csv', index = False)\n",
        "validation_df.to_csv('/content/drive/MyDrive/Colab Notebooks/CI_pubs_project/data/validation_data.csv', index = False)\n",
        "test_df.to_csv('/content/drive/MyDrive/Colab Notebooks/CI_pubs_project/data/test_data.csv', index = False)"
      ],
      "metadata": {
        "id": "1EGh8Kn0lUGd"
      },
      "execution_count": null,
      "outputs": []
    },
    {
      "cell_type": "markdown",
      "source": [
        "## Establish baseline\n",
        "\n",
        "I notived that the SDG column in the original data set is a good predictor of the target variable. Specifically, if a publication is related to a SDG, then it's likely to be CI related. So I will use this as the baseline."
      ],
      "metadata": {
        "id": "-yiXowLZmRIx"
      }
    },
    {
      "cell_type": "code",
      "source": [
        "train_df.info()"
      ],
      "metadata": {
        "colab": {
          "base_uri": "https://localhost:8080/"
        },
        "id": "C-CAYJHbnTe3",
        "outputId": "31255ad6-a650-49dd-e32d-9da93b847e6c"
      },
      "execution_count": null,
      "outputs": [
        {
          "output_type": "stream",
          "name": "stdout",
          "text": [
            "<class 'pandas.core.frame.DataFrame'>\n",
            "Index: 246 entries, 362 to 102\n",
            "Data columns (total 17 columns):\n",
            " #   Column                                                Non-Null Count  Dtype \n",
            "---  ------                                                --------------  ----- \n",
            " 0   Index                                                 246 non-null    int64 \n",
            " 1   CI related?                                           246 non-null    object\n",
            " 2   Title                                                 246 non-null    object\n",
            " 3   Abstract                                              246 non-null    object\n",
            " 4   DOI                                                   246 non-null    object\n",
            " 5   Scopus Source title                                   246 non-null    object\n",
            " 6   All Science Journal Classification (ASJC) field name  246 non-null    object\n",
            " 7   Quacquarelli Symonds (QS) Subject area field name     246 non-null    object\n",
            " 8   Quacquarelli Symonds (QS) Subject field name          246 non-null    object\n",
            " 9   Times Higher Education (THE) field name               246 non-null    object\n",
            " 10  ANZSRC FoR (2020) parent name                         246 non-null    object\n",
            " 11  Sustainable Development Goals (2023)                  246 non-null    object\n",
            " 12  Topic Cluster name                                    246 non-null    object\n",
            " 13  Topic Cluster number                                  246 non-null    object\n",
            " 14  Topic name                                            246 non-null    object\n",
            " 15  Topic number                                          246 non-null    object\n",
            " 16  Target                                                246 non-null    int64 \n",
            "dtypes: int64(2), object(15)\n",
            "memory usage: 34.6+ KB\n"
          ]
        }
      ]
    },
    {
      "cell_type": "code",
      "source": [
        "print(\"The number of publications NOT related to SDG: \" + str((train_df['Sustainable Development Goals (2023)'] == '-').sum()))\n",
        "print(\"The number of publications related to SDG: \" + str((train_df['Sustainable Development Goals (2023)'] != '-').sum()))"
      ],
      "metadata": {
        "colab": {
          "base_uri": "https://localhost:8080/"
        },
        "id": "-3My8skunK9b",
        "outputId": "878f9734-2295-45ea-b1f9-f060ea3b80fc"
      },
      "execution_count": null,
      "outputs": [
        {
          "output_type": "stream",
          "name": "stdout",
          "text": [
            "The number of publications NOT related to SDG: 102\n",
            "The number of publications related to SDG: 144\n"
          ]
        }
      ]
    },
    {
      "cell_type": "code",
      "source": [],
      "metadata": {
        "id": "B4ECRQIynKhr"
      },
      "execution_count": null,
      "outputs": []
    },
    {
      "cell_type": "code",
      "source": [
        "from sklearn.metrics import accuracy_score, precision_score, recall_score, f1_score\n",
        "\n",
        "# Define the values in 'column1' that will predict 1 for the target variable\n",
        "values_predicting_1 = ['SDG 7', 'SDG 11', 'SDG 13', 'SDG 12', 'SDG 14', 'SDG 15']\n",
        "\n",
        "# Generate baseline predictions\n",
        "train_df['baseline_prediction'] = train_df['Sustainable Development Goals (2023)'].apply(\n",
        "    lambda x: 1 if any (value in x for value in  values_predicting_1)  else 0)\n",
        "\n",
        "# Calculate metrics\n",
        "accuracy = accuracy_score(train_df['Target'], train_df['baseline_prediction'])\n",
        "precision = precision_score(train_df['Target'], train_df['baseline_prediction'])\n",
        "recall = recall_score(train_df['Target'], train_df['baseline_prediction'])\n",
        "f1 = f1_score(train_df['Target'], train_df['baseline_prediction'])\n",
        "\n",
        "# Print the metrics\n",
        "print(f\"Accuracy: {accuracy:.2f}\")\n",
        "print(f\"Precision: {precision:.2f}\")\n",
        "print(f\"Recall: {recall:.2f}\")\n",
        "print(f\"F1 Score: {f1:.2f}\")"
      ],
      "metadata": {
        "colab": {
          "base_uri": "https://localhost:8080/"
        },
        "id": "nBn2LMk-mOmS",
        "outputId": "c039a755-cf20-4fd2-8794-1bb736b4af04"
      },
      "execution_count": null,
      "outputs": [
        {
          "output_type": "stream",
          "name": "stdout",
          "text": [
            "Accuracy: 0.68\n",
            "Precision: 0.58\n",
            "Recall: 0.65\n",
            "F1 Score: 0.61\n"
          ]
        }
      ]
    },
    {
      "cell_type": "code",
      "source": [
        "# Generate baseline predictions\n",
        "validation_df['baseline_prediction'] = validation_df['Sustainable Development Goals (2023)'].apply(\n",
        "    lambda x: 1 if any(value in x for value in values_predicting_1) else 0)\n",
        "\n",
        "# Calculate metrics\n",
        "accuracy = accuracy_score(validation_df['Target'], validation_df['baseline_prediction'])\n",
        "precision = precision_score(validation_df['Target'], validation_df['baseline_prediction'])\n",
        "recall = recall_score(validation_df['Target'], validation_df['baseline_prediction'])\n",
        "f1 = f1_score(validation_df['Target'], validation_df['baseline_prediction'])\n",
        "\n",
        "# Print the metrics\n",
        "print(f\"Accuracy: {accuracy:.2f}\")\n",
        "print(f\"Precision: {precision:.2f}\")\n",
        "print(f\"Recall: {recall:.2f}\")\n",
        "print(f\"F1 Score: {f1:.2f}\")\n"
      ],
      "metadata": {
        "colab": {
          "base_uri": "https://localhost:8080/"
        },
        "id": "4DgxlGbJwCPs",
        "outputId": "b44d155d-e28e-45d3-c9a8-d8ca9eed2448"
      },
      "execution_count": null,
      "outputs": [
        {
          "output_type": "stream",
          "name": "stdout",
          "text": [
            "Accuracy: 0.66\n",
            "Precision: 0.54\n",
            "Recall: 0.71\n",
            "F1 Score: 0.61\n"
          ]
        }
      ]
    },
    {
      "cell_type": "markdown",
      "source": [
        "Train a simple logistic regression model using the Topic and topic cluster number columns."
      ],
      "metadata": {
        "id": "_LxJeAH_tkMt"
      }
    },
    {
      "cell_type": "code",
      "source": [
        "# prompt: a logistic regression model using the train_df and the validation_df from above and using the \"Topic Cluster number\" and the \"Topic number\" as features. First convert these two columns from strings to float. Use the above four metrics for assessing the results. If one of the two columns's value is '-', use the other column to predict. If both column values are '-' then predict as 0.\n",
        "\n",
        "import pandas as pd\n",
        "from sklearn.model_selection import train_test_split\n",
        "from sklearn.linear_model import LogisticRegression\n",
        "from sklearn.metrics import accuracy_score, precision_score, recall_score, f1_score\n",
        "\n",
        "# Read in the train and validation data sets\n",
        "train_df = pd.read_csv('/content/drive/MyDrive/Colab Notebooks/CI_pubs_project/data/train_data.csv')\n",
        "validation_df = pd.read_csv('/content/drive/MyDrive/Colab Notebooks/CI_pubs_project/data/validation_data.csv')\n",
        "\n",
        "# Convert the \"Topic Cluster number\" and \"Topic number\" columns to float\n",
        "train_df['Topic Cluster number'] = train_df['Topic Cluster number'].apply(lambda x: float(x) if x != '-' else -1)\n",
        "train_df['Topic number'] = train_df['Topic number'].apply(lambda x: float(x) if x != '-' else -1)\n",
        "validation_df['Topic Cluster number'] = validation_df['Topic Cluster number'].apply(lambda x: float(x) if x != '-' else -1)\n",
        "validation_df['Topic number'] = validation_df['Topic number'].apply(lambda x: float(x) if x != '-' else -1)\n",
        "\n",
        "# Define the features and target variables\n",
        "X_train = train_df[['Topic Cluster number', 'Topic number']]\n",
        "y_train = train_df['Target']\n",
        "X_val = validation_df[['Topic Cluster number', 'Topic number']]\n",
        "y_val = validation_df['Target']\n",
        "\n",
        "# Train the logistic regression model\n",
        "model = LogisticRegression()\n",
        "model.fit(X_train, y_train)\n",
        "\n",
        "# Make predictions on the validation set\n",
        "y_pred = model.predict(X_val)\n",
        "\n",
        "# Calculate the metrics\n",
        "accuracy = accuracy_score(y_val, y_pred)\n",
        "precision = precision_score(y_val, y_pred)\n",
        "recall = recall_score(y_val, y_pred)\n",
        "f1 = f1_score(y_val, y_pred)\n",
        "\n",
        "# Print the metrics\n",
        "print(f\"Accuracy: {accuracy:.2f}\")\n",
        "print(f\"Precision: {precision:.2f}\")\n",
        "print(f\"Recall: {recall:.2f}\")\n",
        "print(f\"F1 Score: {f1:.2f}\")\n"
      ],
      "metadata": {
        "colab": {
          "base_uri": "https://localhost:8080/"
        },
        "id": "NqCZnk7vtn-X",
        "outputId": "df03fddd-3c5c-4010-a2bb-1d843494d248"
      },
      "execution_count": null,
      "outputs": [
        {
          "output_type": "stream",
          "name": "stdout",
          "text": [
            "Accuracy: 0.62\n",
            "Precision: 0.50\n",
            "Recall: 0.06\n",
            "F1 Score: 0.11\n"
          ]
        }
      ]
    },
    {
      "cell_type": "markdown",
      "source": [
        "Using these two columns and this simple logistic regression model, we can see that our recall and F1 scoores are low. Next, we will encode the \"Title column\" and use it in our model."
      ],
      "metadata": {
        "id": "WvNSkIzbtjVD"
      }
    },
    {
      "cell_type": "code",
      "source": [
        "# prompt: Encode the Title column and add it into the logistic regression model. Use count vectorizer. import the relevant packages first.\n",
        "\n",
        "import pandas as pd\n",
        "from sklearn.feature_extraction.text import CountVectorizer\n",
        "\n",
        "# Read in the train and validation data sets\n",
        "train_df = pd.read_csv('/content/drive/MyDrive/Colab Notebooks/CI_pubs_project/data/train_data.csv')\n",
        "validation_df = pd.read_csv('/content/drive/MyDrive/Colab Notebooks/CI_pubs_project/data/validation_data.csv')\n",
        "\n",
        "# Convert the \"Topic Cluster number\" and \"Topic number\" columns to float\n",
        "train_df['Topic Cluster number'] = train_df['Topic Cluster number'].apply(lambda x: float(x) if x != '-' else -1)\n",
        "train_df['Topic number'] = train_df['Topic number'].apply(lambda x: float(x) if x != '-' else -1)\n",
        "validation_df['Topic Cluster number'] = validation_df['Topic Cluster number'].apply(lambda x: float(x) if x != '-' else -1)\n",
        "validation_df['Topic number'] = validation_df['Topic number'].apply(lambda x: float(x) if x != '-' else -1)\n",
        "\n",
        "# Define the features and target variables\n",
        "X_train = train_df[['Topic Cluster number', 'Topic number', 'Title']]\n",
        "y_train = train_df['Target']\n",
        "X_val = validation_df[['Topic Cluster number', 'Topic number', 'Title']]\n",
        "y_val = validation_df['Target']\n",
        "\n",
        "# Encode the Title column using CountVectorizer\n",
        "vectorizer = CountVectorizer()\n",
        "X_train_encoded = vectorizer.fit_transform(X_train['Title'])\n",
        "X_val_encoded = vectorizer.transform(X_val['Title'])\n",
        "\n",
        "# Combine the encoded Title column with the other features\n",
        "X_train_combined = pd.concat([X_train[['Topic Cluster number', 'Topic number']].reset_index(drop=True), pd.DataFrame(X_train_encoded.toarray())], axis=1)\n",
        "X_val_combined = pd.concat([X_val[['Topic Cluster number', 'Topic number']].reset_index(drop=True), pd.DataFrame(X_val_encoded.toarray())], axis=1)\n",
        "\n",
        "# Ensure all column names are strings\n",
        "X_train_combined.columns = X_train_combined.columns.astype(str)\n",
        "X_val_combined.columns = X_val_combined.columns.astype(str)\n",
        "\n",
        "# Train the logistic regression model\n",
        "model = LogisticRegression()\n",
        "model.fit(X_train_combined, y_train)\n",
        "\n",
        "# Make predictions on the validation set\n",
        "y_pred = model.predict(X_val_combined)\n",
        "\n",
        "# Calculate the metrics\n",
        "accuracy = accuracy_score(y_val, y_pred)\n",
        "precision = precision_score(y_val, y_pred)\n",
        "recall = recall_score(y_val, y_pred)\n",
        "f1 = f1_score(y_val, y_pred)\n",
        "\n",
        "# Print the metrics\n",
        "print(f\"Accuracy: {accuracy:.2f}\")\n",
        "print(f\"Precision: {precision:.2f}\")\n",
        "print(f\"Recall: {recall:.2f}\")\n",
        "print(f\"F1 Score: {f1:.2f}\")\n"
      ],
      "metadata": {
        "colab": {
          "base_uri": "https://localhost:8080/"
        },
        "id": "YbEgtTTPxjNZ",
        "outputId": "9625e2b1-4771-498e-ac77-baaa1de18a27"
      },
      "execution_count": null,
      "outputs": [
        {
          "output_type": "stream",
          "name": "stdout",
          "text": [
            "Accuracy: 0.62\n",
            "Precision: 0.50\n",
            "Recall: 0.06\n",
            "F1 Score: 0.11\n"
          ]
        }
      ]
    },
    {
      "cell_type": "code",
      "source": [
        "import pandas as pd\n",
        "from sklearn.feature_extraction.text import TfidfVectorizer\n",
        "from sklearn.linear_model import LogisticRegression\n",
        "from sklearn.metrics import accuracy_score, precision_score, recall_score, f1_score\n",
        "\n",
        "# Read in the train and validation data sets\n",
        "train_df = pd.read_csv('/content/drive/MyDrive/Colab Notebooks/CI_pubs_project/data/train_data.csv')\n",
        "validation_df = pd.read_csv('/content/drive/MyDrive/Colab Notebooks/CI_pubs_project/data/validation_data.csv')\n",
        "\n",
        "# Convert the \"Topic Cluster number\" and \"Topic number\" columns to float\n",
        "train_df['Topic Cluster number'] = train_df['Topic Cluster number'].apply(lambda x: float(x) if x != '-' else -1)\n",
        "train_df['Topic number'] = train_df['Topic number'].apply(lambda x: float(x) if x != '-' else -1)\n",
        "validation_df['Topic Cluster number'] = validation_df['Topic Cluster number'].apply(lambda x: float(x) if x != '-' else -1)\n",
        "validation_df['Topic number'] = validation_df['Topic number'].apply(lambda x: float(x) if x != '-' else -1)\n",
        "\n",
        "# Define the features and target variables\n",
        "X_train = train_df[['Topic Cluster number', 'Topic number', 'Title']]\n",
        "y_train = train_df['Target']\n",
        "X_val = validation_df[['Topic Cluster number', 'Topic number', 'Title']]\n",
        "y_val = validation_df['Target']\n",
        "\n",
        "# Encode the Title column using TfidfVectorizer\n",
        "tfidf_vectorizer = TfidfVectorizer()\n",
        "X_train_encoded = tfidf_vectorizer.fit_transform(X_train['Title'])\n",
        "X_val_encoded = tfidf_vectorizer.transform(X_val['Title'])\n",
        "\n",
        "# Combine the encoded Title column with the other features\n",
        "X_train_combined = pd.concat([X_train[['Topic Cluster number', 'Topic number']].reset_index(drop=True), pd.DataFrame(X_train_encoded.toarray(), columns=tfidf_vectorizer.get_feature_names_out())], axis=1)\n",
        "X_val_combined = pd.concat([X_val[['Topic Cluster number', 'Topic number']].reset_index(drop=True), pd.DataFrame(X_val_encoded.toarray(), columns=tfidf_vectorizer.get_feature_names_out())], axis=1)\n",
        "\n",
        "# Ensure all column names are strings\n",
        "X_train_combined.columns = X_train_combined.columns.astype(str)\n",
        "X_val_combined.columns = X_val_combined.columns.astype(str)\n",
        "\n",
        "# Train the logistic regression model\n",
        "model = LogisticRegression()\n",
        "model.fit(X_train_combined, y_train)\n",
        "\n",
        "# Make predictions on the validation set\n",
        "y_pred = model.predict(X_val_combined)\n",
        "\n",
        "# Calculate the metrics\n",
        "accuracy = accuracy_score(y_val, y_pred)\n",
        "precision = precision_score(y_val, y_pred)\n",
        "recall = recall_score(y_val, y_pred)\n",
        "f1 = f1_score(y_val, y_pred)\n",
        "\n",
        "# Print the metrics\n",
        "print(f\"Accuracy: {accuracy:.2f}\")\n",
        "print(f\"Precision: {precision:.2f}\")\n",
        "print(f\"Recall: {recall:.2f}\")\n",
        "print(f\"F1 Score: {f1:.2f}\")\n"
      ],
      "metadata": {
        "colab": {
          "base_uri": "https://localhost:8080/"
        },
        "id": "tpdLwry_1Wo_",
        "outputId": "e3153dbd-2313-4d27-88dc-29e5cce14313"
      },
      "execution_count": null,
      "outputs": [
        {
          "output_type": "stream",
          "name": "stdout",
          "text": [
            "Accuracy: 0.62\n",
            "Precision: 0.50\n",
            "Recall: 0.06\n",
            "F1 Score: 0.11\n"
          ]
        }
      ]
    },
    {
      "cell_type": "markdown",
      "source": [],
      "metadata": {
        "id": "bh4a1sHktZv1"
      }
    },
    {
      "cell_type": "code",
      "source": [
        "# prompt: Generate a new feature based on the 'Sustainable Development Goals (2023)' column. If any value in ['SDG 7', 'SDG 11', 'SDG 13', 'SDG 12', 'SDG 14', 'SDG 15'] exists in the column value, then the new feature value is \"1\" else it is \"0\" and then add this new feature to the model above and product the results.\n",
        "\n",
        "import pandas as pd\n",
        "# Read in the train and validation data sets\n",
        "train_df = pd.read_csv('/content/drive/MyDrive/Colab Notebooks/CI_pubs_project/data/train_data.csv')\n",
        "validation_df = pd.read_csv('/content/drive/MyDrive/Colab Notebooks/CI_pubs_project/data/validation_data.csv')\n",
        "\n",
        "# Convert the \"Topic Cluster number\" and \"Topic number\" columns to float\n",
        "train_df['Topic Cluster number'] = train_df['Topic Cluster number'].apply(lambda x: float(x) if x != '-' else -1)\n",
        "train_df['Topic number'] = train_df['Topic number'].apply(lambda x: float(x) if x != '-' else -1)\n",
        "validation_df['Topic Cluster number'] = validation_df['Topic Cluster number'].apply(lambda x: float(x) if x != '-' else -1)\n",
        "validation_df['Topic number'] = validation_df['Topic number'].apply(lambda x: float(x) if x != '-' else -1)\n",
        "\n",
        "# Define the features and target variables\n",
        "X_train = train_df[['Topic Cluster number', 'Topic number', 'Title']]\n",
        "y_train = train_df['Target']\n",
        "X_val = validation_df[['Topic Cluster number', 'Topic number', 'Title']]\n",
        "y_val = validation_df['Target']\n",
        "\n",
        "# Generate the new feature\n",
        "train_df['SDG_related'] = train_df['Sustainable Development Goals (2023)'].apply(\n",
        "    lambda x: 1 if any (value in x for value in  ['SDG 7', 'SDG 11', 'SDG 13', 'SDG 12', 'SDG 14', 'SDG 15'])  else 0)\n",
        "validation_df['SDG_related'] = validation_df['Sustainable Development Goals (2023)'].apply(\n",
        "    lambda x: 1 if any(value in x for value in ['SDG 7', 'SDG 11', 'SDG 13', 'SDG 12', 'SDG 14', 'SDG 15']) else 0)\n",
        "\n",
        "# Encode the Title column using TfidfVectorizer\n",
        "tfidf_vectorizer = TfidfVectorizer()\n",
        "X_train_encoded = tfidf_vectorizer.fit_transform(X_train['Title'])\n",
        "X_val_encoded = tfidf_vectorizer.transform(X_val['Title'])\n",
        "\n",
        "# Combine the encoded Title column, the new feature, and the other features\n",
        "X_train_combined = pd.concat([X_train[['Topic Cluster number', 'Topic number']].reset_index(drop=True), pd.DataFrame(X_train_encoded.toarray(), columns=tfidf_vectorizer.get_feature_names_out()), train_df['SDG_related'].reset_index(drop=True)], axis=1)\n",
        "X_val_combined = pd.concat([X_val[['Topic Cluster number', 'Topic number']].reset_index(drop=True), pd.DataFrame(X_val_encoded.toarray(), columns=tfidf_vectorizer.get_feature_names_out()), validation_df['SDG_related'].reset_index(drop=True)], axis=1)\n",
        "\n",
        "# Ensure all column names are strings\n",
        "X_train_combined.columns = X_train_combined.columns.astype(str)\n",
        "X_val_combined.columns = X_val_combined.columns.astype(str)\n",
        "\n",
        "# Train the logistic regression model\n",
        "model = LogisticRegression()\n",
        "model.fit(X_train_combined, y_train)\n",
        "\n",
        "# Make predictions on the validation set\n",
        "y_pred = model.predict(X_val_combined)\n",
        "\n",
        "# Calculate the metrics\n",
        "accuracy = accuracy_score(y_val, y_pred)\n",
        "precision = precision_score(y_val, y_pred)\n",
        "recall = recall_score(y_val, y_pred)\n",
        "f1 = f1_score(y_val, y_pred)\n",
        "\n",
        "# Print the metrics\n",
        "print(f\"Accuracy: {accuracy:.2f}\")\n",
        "print(f\"Precision: {precision:.2f}\")\n",
        "print(f\"Recall: {recall:.2f}\")\n",
        "print(f\"F1 Score: {f1:.2f}\")\n"
      ],
      "metadata": {
        "colab": {
          "base_uri": "https://localhost:8080/"
        },
        "id": "BDd-JvvH2FtP",
        "outputId": "7a7a683d-579f-4f04-d3fb-bd38bede2860"
      },
      "execution_count": null,
      "outputs": [
        {
          "output_type": "stream",
          "name": "stdout",
          "text": [
            "Accuracy: 0.62\n",
            "Precision: 0.50\n",
            "Recall: 0.06\n",
            "F1 Score: 0.11\n"
          ]
        }
      ]
    },
    {
      "cell_type": "code",
      "source": [
        "# prompt: use the same features but use the XGBoost model instead.\n",
        "\n",
        "import pandas as pd\n",
        "from xgboost import XGBClassifier\n",
        "\n",
        "# Read in the train and validation data sets\n",
        "train_df = pd.read_csv('/content/drive/MyDrive/Colab Notebooks/CI_pubs_project/data/train_data.csv')\n",
        "validation_df = pd.read_csv('/content/drive/MyDrive/Colab Notebooks/CI_pubs_project/data/validation_data.csv')\n",
        "\n",
        "# Convert the \"Topic Cluster number\" and \"Topic number\" columns to float\n",
        "train_df['Topic Cluster number'] = train_df['Topic Cluster number'].apply(lambda x: float(x) if x != '-' else -1)\n",
        "train_df['Topic number'] = train_df['Topic number'].apply(lambda x: float(x) if x != '-' else -1)\n",
        "validation_df['Topic Cluster number'] = validation_df['Topic Cluster number'].apply(lambda x: float(x) if x != '-' else -1)\n",
        "validation_df['Topic number'] = validation_df['Topic number'].apply(lambda x: float(x) if x != '-' else -1)\n",
        "\n",
        "# Define the features and target variables\n",
        "X_train = train_df[['Topic Cluster number', 'Topic number', 'Title']]\n",
        "y_train = train_df['Target']\n",
        "X_val = validation_df[['Topic Cluster number', 'Topic number', 'Title']]\n",
        "y_val = validation_df['Target']\n",
        "\n",
        "# Generate the new feature\n",
        "train_df['SDG_related'] = train_df['Sustainable Development Goals (2023)'].apply(\n",
        "    lambda x: 1 if any (value in x for value in  ['SDG 7', 'SDG 11', 'SDG 13', 'SDG 12', 'SDG 14', 'SDG 15'])  else 0)\n",
        "validation_df['SDG_related'] = validation_df['Sustainable Development Goals (2023)'].apply(\n",
        "    lambda x: 1 if any(value in x for value in ['SDG 7', 'SDG 11', 'SDG 13', 'SDG 12', 'SDG 14', 'SDG 15']) else 0)\n",
        "\n",
        "# Encode the Title column using TfidfVectorizer\n",
        "tfidf_vectorizer = TfidfVectorizer()\n",
        "X_train_encoded = tfidf_vectorizer.fit_transform(X_train['Title'])\n",
        "X_val_encoded = tfidf_vectorizer.transform(X_val['Title'])\n",
        "\n",
        "# Combine the encoded Title column, the new feature, and the other features\n",
        "X_train_combined = pd.concat([X_train[['Topic Cluster number', 'Topic number']].reset_index(drop=True), pd.DataFrame(X_train_encoded.toarray(), columns=tfidf_vectorizer.get_feature_names_out()), train_df['SDG_related'].reset_index(drop=True)], axis=1)\n",
        "X_val_combined = pd.concat([X_val[['Topic Cluster number', 'Topic number']].reset_index(drop=True), pd.DataFrame(X_val_encoded.toarray(), columns=tfidf_vectorizer.get_feature_names_out()), validation_df['SDG_related'].reset_index(drop=True)], axis=1)\n",
        "\n",
        "# Ensure all column names are strings\n",
        "X_train_combined.columns = X_train_combined.columns.astype(str)\n",
        "X_val_combined.columns = X_val_combined.columns.astype(str)\n",
        "\n",
        "# Train the XGBoost model\n",
        "model = XGBClassifier(objective='binary:logistic', seed=42)\n",
        "model.fit(X_train_combined, y_train)\n",
        "\n",
        "# Make predictions on the validation set\n",
        "y_pred = model.predict(X_val_combined)\n",
        "\n",
        "# Calculate the metrics\n",
        "accuracy = accuracy_score(y_val, y_pred)\n",
        "precision = precision_score(y_val, y_pred)\n",
        "recall = recall_score(y_val, y_pred)\n",
        "f1 = f1_score(y_val, y_pred)\n",
        "\n",
        "# Print the metrics\n",
        "print(f\"Accuracy: {accuracy:.2f}\")\n",
        "print(f\"Precision: {precision:.2f}\")\n",
        "print(f\"Recall: {recall:.2f}\")\n",
        "print(f\"F1 Score: {f1:.2f}\")\n"
      ],
      "metadata": {
        "colab": {
          "base_uri": "https://localhost:8080/"
        },
        "id": "yc2rWhio4f07",
        "outputId": "c24919d2-0850-47ef-e404-af07e154b885"
      },
      "execution_count": null,
      "outputs": [
        {
          "output_type": "stream",
          "name": "stdout",
          "text": [
            "Accuracy: 0.76\n",
            "Precision: 0.70\n",
            "Recall: 0.61\n",
            "F1 Score: 0.66\n"
          ]
        }
      ]
    },
    {
      "cell_type": "code",
      "source": [
        "# Specify the columns you want to analyze\n",
        "columns_to_analyze = ['All Science Journal Classification (ASJC) field name',\n",
        "                      'Quacquarelli Symonds (QS) Subject area field name',\n",
        "                      'Quacquarelli Symonds (QS) Subject field name',\n",
        "                      'Times Higher Education (THE) field name']\n",
        "\n",
        "# Count unique values in specified columns\n",
        "unique_counts = df[columns_to_analyze].nunique()\n",
        "\n",
        "# Print the results\n",
        "print(\"Number of unique values per column:\")\n",
        "print(unique_counts)"
      ],
      "metadata": {
        "colab": {
          "base_uri": "https://localhost:8080/"
        },
        "id": "MyiDDMSE5y41",
        "outputId": "e26edbf1-f520-43ee-80f0-3e04170baf11"
      },
      "execution_count": null,
      "outputs": [
        {
          "output_type": "stream",
          "name": "stdout",
          "text": [
            "Number of unique values per column:\n",
            "All Science Journal Classification (ASJC) field name    210\n",
            "Quacquarelli Symonds (QS) Subject area field name        42\n",
            "Quacquarelli Symonds (QS) Subject field name            190\n",
            "Times Higher Education (THE) field name                  79\n",
            "dtype: int64\n"
          ]
        }
      ]
    },
    {
      "cell_type": "code",
      "source": [
        "import pandas as pd\n",
        "from sklearn.model_selection import train_test_split\n",
        "from sklearn.metrics import accuracy_score, precision_score, recall_score, f1_score\n",
        "from xgboost import XGBClassifier\n",
        "from sklearn.feature_extraction.text import TfidfVectorizer\n",
        "from sklearn.feature_extraction.text import CountVectorizer\n",
        "\n",
        "# Read in the train and validation data sets\n",
        "train_df = pd.read_csv('/content/drive/MyDrive/Colab Notebooks/CI_pubs_project/data/train_data.csv')\n",
        "validation_df = pd.read_csv('/content/drive/MyDrive/Colab Notebooks/CI_pubs_project/data/validation_data.csv')\n",
        "\n",
        "# Convert numeric-like columns to floats or ints where necessary\n",
        "train_df['Topic Cluster number'] = train_df['Topic Cluster number'].apply(lambda x: float(x) if x != '-' else -1)\n",
        "train_df['Topic number'] = train_df['Topic number'].apply(lambda x: float(x) if x != '-' else -1)\n",
        "validation_df['Topic Cluster number'] = validation_df['Topic Cluster number'].apply(lambda x: float(x) if x != '-' else -1)\n",
        "validation_df['Topic number'] = validation_df['Topic number'].apply(lambda x: float(x) if x != '-' else -1)\n",
        "\n",
        "# Generate a new feature based on Sustainable Development Goals\n",
        "sdg_keys = ['SDG 7', 'SDG 11', 'SDG 13', 'SDG 12', 'SDG 14', 'SDG 15']\n",
        "train_df['SDG_related'] = train_df['Sustainable Development Goals (2023)'].apply(lambda x: 1 if any(value in x for value in sdg_keys) else 0)\n",
        "validation_df['SDG_related'] = validation_df['Sustainable Development Goals (2023)'].apply(lambda x: 1 if any(value in x for value in sdg_keys) else 0)\n",
        "\n",
        "# Encode the Title column using TfidfVectorizer\n",
        "tfidf_vectorizer = TfidfVectorizer()\n",
        "X_train_title_encoded = tfidf_vectorizer.fit_transform(train_df['Title'])\n",
        "X_val_title_encoded = tfidf_vectorizer.transform(validation_df['Title'])\n",
        "\n",
        "# Prepare initial combined training and validation sets with encoded titles\n",
        "X_train_base = pd.DataFrame(X_train_title_encoded.toarray(), columns=tfidf_vectorizer.get_feature_names_out())\n",
        "X_val_base = pd.DataFrame(X_val_title_encoded.toarray(), columns=tfidf_vectorizer.get_feature_names_out())\n",
        "\n",
        "# Encode categorical columns and evaluate the model for each\n",
        "columns_to_encode = ['All Science Journal Classification (ASJC) field name',\n",
        "                     'Quacquarelli Symonds (QS) Subject area field name',\n",
        "                     'Quacquarelli Symonds (QS) Subject field name',\n",
        "                     'Times Higher Education (THE) field name']\n",
        "\n",
        "for col in columns_to_encode:\n",
        "    vectorizer = CountVectorizer()\n",
        "    X_train_encoded_col = vectorizer.fit_transform(train_df[col])\n",
        "    X_val_encoded_col = vectorizer.transform(validation_df[col])\n",
        "\n",
        "    # Combine all features: topic numbers, SDG-related, encoded titles, and current encoded categorical column\n",
        "    X_train_combined = pd.concat([\n",
        "        train_df[['Topic Cluster number', 'Topic number']].reset_index(drop=True),\n",
        "        train_df['SDG_related'].reset_index(drop=True),\n",
        "        X_train_base,\n",
        "        pd.DataFrame(X_train_encoded_col.toarray(), columns=vectorizer.get_feature_names_out())\n",
        "    ], axis=1)\n",
        "\n",
        "    X_val_combined = pd.concat([\n",
        "        validation_df[['Topic Cluster number', 'Topic number']].reset_index(drop=True),\n",
        "        validation_df['SDG_related'].reset_index(drop=True),\n",
        "        X_val_base,\n",
        "        pd.DataFrame(X_val_encoded_col.toarray(), columns=vectorizer.get_feature_names_out())\n",
        "    ], axis=1)\n",
        "\n",
        "    # Train the XGBoost model\n",
        "    model = XGBClassifier(objective='binary:logistic', seed=42)\n",
        "    model.fit(X_train_combined, train_df['Target'])\n",
        "\n",
        "    # Predict and calculate metrics\n",
        "    y_pred = model.predict(X_val_combined)\n",
        "    accuracy = accuracy_score(validation_df['Target'], y_pred)\n",
        "    precision = precision_score(validation_df['Target'], y_pred)\n",
        "    recall = recall_score(validation_df['Target'], y_pred)\n",
        "    f1 = f1_score(validation_df['Target'], y_pred)\n",
        "\n",
        "    # Print results for each category\n",
        "    print(f\"Results for column '{col}':\")\n",
        "    print(f\"Accuracy: {accuracy:.2f}, Precision: {precision:.2f}, Recall: {recall:.2f}, F1 Score: {f1:.2f}\")\n"
      ],
      "metadata": {
        "colab": {
          "base_uri": "https://localhost:8080/",
          "height": 483
        },
        "id": "OgxlV_FZ7VKE",
        "outputId": "53a41db9-3302-4a03-ec20-5af81cec3f81"
      },
      "execution_count": null,
      "outputs": [
        {
          "output_type": "error",
          "ename": "ValueError",
          "evalue": "feature_names must be unique. Duplicates found: ['and', 'artificial', 'behavior', 'building', 'care', 'cell', 'change', 'chemical', 'cognitive', 'community', 'conservation', 'construction', 'control', 'design', 'development', 'ecology', 'economic', 'education', 'energy', 'engineering', 'environment', 'environmental', 'ethics', 'evolution', 'experimental', 'factors', 'food', 'fuel', 'global', 'health', 'history', 'human', 'in', 'information', 'intelligence', 'international', 'life', 'management', 'manufacturing', 'matter', 'mechanical', 'media', 'mental', 'modeling', 'molecular', 'monitoring', 'networks', 'of', 'oral', 'organic', 'performing', 'physical', 'planetary', 'planning', 'plant', 'policy', 'political', 'pollution', 'power', 'public', 'quality', 'renewable', 'research', 'resource', 'risk', 'safety', 'science', 'sciences', 'simulation', 'social', 'studies', 'surface', 'sustainability', 'systems', 'technology', 'the', 'transportation', 'urban', 'visual']",
          "traceback": [
            "\u001b[0;31m---------------------------------------------------------------------------\u001b[0m",
            "\u001b[0;31mValueError\u001b[0m                                Traceback (most recent call last)",
            "\u001b[0;32m<ipython-input-22-225f728c9dc4>\u001b[0m in \u001b[0;36m<cell line: 38>\u001b[0;34m()\u001b[0m\n\u001b[1;32m     58\u001b[0m     \u001b[0;31m# Train the XGBoost model\u001b[0m\u001b[0;34m\u001b[0m\u001b[0;34m\u001b[0m\u001b[0m\n\u001b[1;32m     59\u001b[0m     \u001b[0mmodel\u001b[0m \u001b[0;34m=\u001b[0m \u001b[0mXGBClassifier\u001b[0m\u001b[0;34m(\u001b[0m\u001b[0mobjective\u001b[0m\u001b[0;34m=\u001b[0m\u001b[0;34m'binary:logistic'\u001b[0m\u001b[0;34m,\u001b[0m \u001b[0mseed\u001b[0m\u001b[0;34m=\u001b[0m\u001b[0;36m42\u001b[0m\u001b[0;34m)\u001b[0m\u001b[0;34m\u001b[0m\u001b[0;34m\u001b[0m\u001b[0m\n\u001b[0;32m---> 60\u001b[0;31m     \u001b[0mmodel\u001b[0m\u001b[0;34m.\u001b[0m\u001b[0mfit\u001b[0m\u001b[0;34m(\u001b[0m\u001b[0mX_train_combined\u001b[0m\u001b[0;34m,\u001b[0m \u001b[0mtrain_df\u001b[0m\u001b[0;34m[\u001b[0m\u001b[0;34m'Target'\u001b[0m\u001b[0;34m]\u001b[0m\u001b[0;34m)\u001b[0m\u001b[0;34m\u001b[0m\u001b[0;34m\u001b[0m\u001b[0m\n\u001b[0m\u001b[1;32m     61\u001b[0m \u001b[0;34m\u001b[0m\u001b[0m\n\u001b[1;32m     62\u001b[0m     \u001b[0;31m# Predict and calculate metrics\u001b[0m\u001b[0;34m\u001b[0m\u001b[0;34m\u001b[0m\u001b[0m\n",
            "\u001b[0;32m/usr/local/lib/python3.10/dist-packages/xgboost/core.py\u001b[0m in \u001b[0;36minner_f\u001b[0;34m(*args, **kwargs)\u001b[0m\n\u001b[1;32m    728\u001b[0m             \u001b[0;32mfor\u001b[0m \u001b[0mk\u001b[0m\u001b[0;34m,\u001b[0m \u001b[0marg\u001b[0m \u001b[0;32min\u001b[0m \u001b[0mzip\u001b[0m\u001b[0;34m(\u001b[0m\u001b[0msig\u001b[0m\u001b[0;34m.\u001b[0m\u001b[0mparameters\u001b[0m\u001b[0;34m,\u001b[0m \u001b[0margs\u001b[0m\u001b[0;34m)\u001b[0m\u001b[0;34m:\u001b[0m\u001b[0;34m\u001b[0m\u001b[0;34m\u001b[0m\u001b[0m\n\u001b[1;32m    729\u001b[0m                 \u001b[0mkwargs\u001b[0m\u001b[0;34m[\u001b[0m\u001b[0mk\u001b[0m\u001b[0;34m]\u001b[0m \u001b[0;34m=\u001b[0m \u001b[0marg\u001b[0m\u001b[0;34m\u001b[0m\u001b[0;34m\u001b[0m\u001b[0m\n\u001b[0;32m--> 730\u001b[0;31m             \u001b[0;32mreturn\u001b[0m \u001b[0mfunc\u001b[0m\u001b[0;34m(\u001b[0m\u001b[0;34m**\u001b[0m\u001b[0mkwargs\u001b[0m\u001b[0;34m)\u001b[0m\u001b[0;34m\u001b[0m\u001b[0;34m\u001b[0m\u001b[0m\n\u001b[0m\u001b[1;32m    731\u001b[0m \u001b[0;34m\u001b[0m\u001b[0m\n\u001b[1;32m    732\u001b[0m         \u001b[0;32mreturn\u001b[0m \u001b[0minner_f\u001b[0m\u001b[0;34m\u001b[0m\u001b[0;34m\u001b[0m\u001b[0m\n",
            "\u001b[0;32m/usr/local/lib/python3.10/dist-packages/xgboost/sklearn.py\u001b[0m in \u001b[0;36mfit\u001b[0;34m(self, X, y, sample_weight, base_margin, eval_set, eval_metric, early_stopping_rounds, verbose, xgb_model, sample_weight_eval_set, base_margin_eval_set, feature_weights, callbacks)\u001b[0m\n\u001b[1;32m   1498\u001b[0m                 \u001b[0mxgb_model\u001b[0m\u001b[0;34m,\u001b[0m \u001b[0meval_metric\u001b[0m\u001b[0;34m,\u001b[0m \u001b[0mparams\u001b[0m\u001b[0;34m,\u001b[0m \u001b[0mearly_stopping_rounds\u001b[0m\u001b[0;34m,\u001b[0m \u001b[0mcallbacks\u001b[0m\u001b[0;34m\u001b[0m\u001b[0;34m\u001b[0m\u001b[0m\n\u001b[1;32m   1499\u001b[0m             )\n\u001b[0;32m-> 1500\u001b[0;31m             train_dmatrix, evals = _wrap_evaluation_matrices(\n\u001b[0m\u001b[1;32m   1501\u001b[0m                 \u001b[0mmissing\u001b[0m\u001b[0;34m=\u001b[0m\u001b[0mself\u001b[0m\u001b[0;34m.\u001b[0m\u001b[0mmissing\u001b[0m\u001b[0;34m,\u001b[0m\u001b[0;34m\u001b[0m\u001b[0;34m\u001b[0m\u001b[0m\n\u001b[1;32m   1502\u001b[0m                 \u001b[0mX\u001b[0m\u001b[0;34m=\u001b[0m\u001b[0mX\u001b[0m\u001b[0;34m,\u001b[0m\u001b[0;34m\u001b[0m\u001b[0;34m\u001b[0m\u001b[0m\n",
            "\u001b[0;32m/usr/local/lib/python3.10/dist-packages/xgboost/sklearn.py\u001b[0m in \u001b[0;36m_wrap_evaluation_matrices\u001b[0;34m(missing, X, y, group, qid, sample_weight, base_margin, feature_weights, eval_set, sample_weight_eval_set, base_margin_eval_set, eval_group, eval_qid, create_dmatrix, enable_categorical, feature_types)\u001b[0m\n\u001b[1;32m    519\u001b[0m     \"\"\"Convert array_like evaluation matrices into DMatrix.  Perform validation on the\n\u001b[1;32m    520\u001b[0m     way.\"\"\"\n\u001b[0;32m--> 521\u001b[0;31m     train_dmatrix = create_dmatrix(\n\u001b[0m\u001b[1;32m    522\u001b[0m         \u001b[0mdata\u001b[0m\u001b[0;34m=\u001b[0m\u001b[0mX\u001b[0m\u001b[0;34m,\u001b[0m\u001b[0;34m\u001b[0m\u001b[0;34m\u001b[0m\u001b[0m\n\u001b[1;32m    523\u001b[0m         \u001b[0mlabel\u001b[0m\u001b[0;34m=\u001b[0m\u001b[0my\u001b[0m\u001b[0;34m,\u001b[0m\u001b[0;34m\u001b[0m\u001b[0;34m\u001b[0m\u001b[0m\n",
            "\u001b[0;32m/usr/local/lib/python3.10/dist-packages/xgboost/sklearn.py\u001b[0m in \u001b[0;36m_create_dmatrix\u001b[0;34m(self, ref, **kwargs)\u001b[0m\n\u001b[1;32m    956\u001b[0m         \u001b[0;32mif\u001b[0m \u001b[0m_can_use_qdm\u001b[0m\u001b[0;34m(\u001b[0m\u001b[0mself\u001b[0m\u001b[0;34m.\u001b[0m\u001b[0mtree_method\u001b[0m\u001b[0;34m)\u001b[0m \u001b[0;32mand\u001b[0m \u001b[0mself\u001b[0m\u001b[0;34m.\u001b[0m\u001b[0mbooster\u001b[0m \u001b[0;34m!=\u001b[0m \u001b[0;34m\"gblinear\"\u001b[0m\u001b[0;34m:\u001b[0m\u001b[0;34m\u001b[0m\u001b[0;34m\u001b[0m\u001b[0m\n\u001b[1;32m    957\u001b[0m             \u001b[0;32mtry\u001b[0m\u001b[0;34m:\u001b[0m\u001b[0;34m\u001b[0m\u001b[0;34m\u001b[0m\u001b[0m\n\u001b[0;32m--> 958\u001b[0;31m                 return QuantileDMatrix(\n\u001b[0m\u001b[1;32m    959\u001b[0m                     \u001b[0;34m**\u001b[0m\u001b[0mkwargs\u001b[0m\u001b[0;34m,\u001b[0m \u001b[0mref\u001b[0m\u001b[0;34m=\u001b[0m\u001b[0mref\u001b[0m\u001b[0;34m,\u001b[0m \u001b[0mnthread\u001b[0m\u001b[0;34m=\u001b[0m\u001b[0mself\u001b[0m\u001b[0;34m.\u001b[0m\u001b[0mn_jobs\u001b[0m\u001b[0;34m,\u001b[0m \u001b[0mmax_bin\u001b[0m\u001b[0;34m=\u001b[0m\u001b[0mself\u001b[0m\u001b[0;34m.\u001b[0m\u001b[0mmax_bin\u001b[0m\u001b[0;34m\u001b[0m\u001b[0;34m\u001b[0m\u001b[0m\n\u001b[1;32m    960\u001b[0m                 )\n",
            "\u001b[0;32m/usr/local/lib/python3.10/dist-packages/xgboost/core.py\u001b[0m in \u001b[0;36minner_f\u001b[0;34m(*args, **kwargs)\u001b[0m\n\u001b[1;32m    728\u001b[0m             \u001b[0;32mfor\u001b[0m \u001b[0mk\u001b[0m\u001b[0;34m,\u001b[0m \u001b[0marg\u001b[0m \u001b[0;32min\u001b[0m \u001b[0mzip\u001b[0m\u001b[0;34m(\u001b[0m\u001b[0msig\u001b[0m\u001b[0;34m.\u001b[0m\u001b[0mparameters\u001b[0m\u001b[0;34m,\u001b[0m \u001b[0margs\u001b[0m\u001b[0;34m)\u001b[0m\u001b[0;34m:\u001b[0m\u001b[0;34m\u001b[0m\u001b[0;34m\u001b[0m\u001b[0m\n\u001b[1;32m    729\u001b[0m                 \u001b[0mkwargs\u001b[0m\u001b[0;34m[\u001b[0m\u001b[0mk\u001b[0m\u001b[0;34m]\u001b[0m \u001b[0;34m=\u001b[0m \u001b[0marg\u001b[0m\u001b[0;34m\u001b[0m\u001b[0;34m\u001b[0m\u001b[0m\n\u001b[0;32m--> 730\u001b[0;31m             \u001b[0;32mreturn\u001b[0m \u001b[0mfunc\u001b[0m\u001b[0;34m(\u001b[0m\u001b[0;34m**\u001b[0m\u001b[0mkwargs\u001b[0m\u001b[0;34m)\u001b[0m\u001b[0;34m\u001b[0m\u001b[0;34m\u001b[0m\u001b[0m\n\u001b[0m\u001b[1;32m    731\u001b[0m \u001b[0;34m\u001b[0m\u001b[0m\n\u001b[1;32m    732\u001b[0m         \u001b[0;32mreturn\u001b[0m \u001b[0minner_f\u001b[0m\u001b[0;34m\u001b[0m\u001b[0;34m\u001b[0m\u001b[0m\n",
            "\u001b[0;32m/usr/local/lib/python3.10/dist-packages/xgboost/core.py\u001b[0m in \u001b[0;36m__init__\u001b[0;34m(self, data, label, weight, base_margin, missing, silent, feature_names, feature_types, nthread, max_bin, ref, group, qid, label_lower_bound, label_upper_bound, feature_weights, enable_categorical, data_split_mode)\u001b[0m\n\u001b[1;32m   1527\u001b[0m                 )\n\u001b[1;32m   1528\u001b[0m \u001b[0;34m\u001b[0m\u001b[0m\n\u001b[0;32m-> 1529\u001b[0;31m         self._init(\n\u001b[0m\u001b[1;32m   1530\u001b[0m             \u001b[0mdata\u001b[0m\u001b[0;34m,\u001b[0m\u001b[0;34m\u001b[0m\u001b[0;34m\u001b[0m\u001b[0m\n\u001b[1;32m   1531\u001b[0m             \u001b[0mref\u001b[0m\u001b[0;34m=\u001b[0m\u001b[0mref\u001b[0m\u001b[0;34m,\u001b[0m\u001b[0;34m\u001b[0m\u001b[0;34m\u001b[0m\u001b[0m\n",
            "\u001b[0;32m/usr/local/lib/python3.10/dist-packages/xgboost/core.py\u001b[0m in \u001b[0;36m_init\u001b[0;34m(self, data, ref, enable_categorical, **meta)\u001b[0m\n\u001b[1;32m   1586\u001b[0m             \u001b[0mctypes\u001b[0m\u001b[0;34m.\u001b[0m\u001b[0mbyref\u001b[0m\u001b[0;34m(\u001b[0m\u001b[0mhandle\u001b[0m\u001b[0;34m)\u001b[0m\u001b[0;34m,\u001b[0m\u001b[0;34m\u001b[0m\u001b[0;34m\u001b[0m\u001b[0m\n\u001b[1;32m   1587\u001b[0m         )\n\u001b[0;32m-> 1588\u001b[0;31m         \u001b[0mit\u001b[0m\u001b[0;34m.\u001b[0m\u001b[0mreraise\u001b[0m\u001b[0;34m(\u001b[0m\u001b[0;34m)\u001b[0m\u001b[0;34m\u001b[0m\u001b[0;34m\u001b[0m\u001b[0m\n\u001b[0m\u001b[1;32m   1589\u001b[0m         \u001b[0;31m# delay check_call to throw intermediate exception first\u001b[0m\u001b[0;34m\u001b[0m\u001b[0;34m\u001b[0m\u001b[0m\n\u001b[1;32m   1590\u001b[0m         \u001b[0m_check_call\u001b[0m\u001b[0;34m(\u001b[0m\u001b[0mret\u001b[0m\u001b[0;34m)\u001b[0m\u001b[0;34m\u001b[0m\u001b[0;34m\u001b[0m\u001b[0m\n",
            "\u001b[0;32m/usr/local/lib/python3.10/dist-packages/xgboost/core.py\u001b[0m in \u001b[0;36mreraise\u001b[0;34m(self)\u001b[0m\n\u001b[1;32m    574\u001b[0m             \u001b[0mexc\u001b[0m \u001b[0;34m=\u001b[0m \u001b[0mself\u001b[0m\u001b[0;34m.\u001b[0m\u001b[0m_exception\u001b[0m\u001b[0;34m\u001b[0m\u001b[0;34m\u001b[0m\u001b[0m\n\u001b[1;32m    575\u001b[0m             \u001b[0mself\u001b[0m\u001b[0;34m.\u001b[0m\u001b[0m_exception\u001b[0m \u001b[0;34m=\u001b[0m \u001b[0;32mNone\u001b[0m\u001b[0;34m\u001b[0m\u001b[0;34m\u001b[0m\u001b[0m\n\u001b[0;32m--> 576\u001b[0;31m             \u001b[0;32mraise\u001b[0m \u001b[0mexc\u001b[0m  \u001b[0;31m# pylint: disable=raising-bad-type\u001b[0m\u001b[0;34m\u001b[0m\u001b[0;34m\u001b[0m\u001b[0m\n\u001b[0m\u001b[1;32m    577\u001b[0m \u001b[0;34m\u001b[0m\u001b[0m\n\u001b[1;32m    578\u001b[0m     \u001b[0;32mdef\u001b[0m \u001b[0m__del__\u001b[0m\u001b[0;34m(\u001b[0m\u001b[0mself\u001b[0m\u001b[0;34m)\u001b[0m \u001b[0;34m->\u001b[0m \u001b[0;32mNone\u001b[0m\u001b[0;34m:\u001b[0m\u001b[0;34m\u001b[0m\u001b[0;34m\u001b[0m\u001b[0m\n",
            "\u001b[0;32m/usr/local/lib/python3.10/dist-packages/xgboost/core.py\u001b[0m in \u001b[0;36m_handle_exception\u001b[0;34m(self, fn, dft_ret)\u001b[0m\n\u001b[1;32m    555\u001b[0m \u001b[0;34m\u001b[0m\u001b[0m\n\u001b[1;32m    556\u001b[0m         \u001b[0;32mtry\u001b[0m\u001b[0;34m:\u001b[0m\u001b[0;34m\u001b[0m\u001b[0;34m\u001b[0m\u001b[0m\n\u001b[0;32m--> 557\u001b[0;31m             \u001b[0;32mreturn\u001b[0m \u001b[0mfn\u001b[0m\u001b[0;34m(\u001b[0m\u001b[0;34m)\u001b[0m\u001b[0;34m\u001b[0m\u001b[0;34m\u001b[0m\u001b[0m\n\u001b[0m\u001b[1;32m    558\u001b[0m         \u001b[0;32mexcept\u001b[0m \u001b[0mException\u001b[0m \u001b[0;32mas\u001b[0m \u001b[0me\u001b[0m\u001b[0;34m:\u001b[0m  \u001b[0;31m# pylint: disable=broad-except\u001b[0m\u001b[0;34m\u001b[0m\u001b[0;34m\u001b[0m\u001b[0m\n\u001b[1;32m    559\u001b[0m             \u001b[0;31m# Defer the exception in order to return 0 and stop the iteration.\u001b[0m\u001b[0;34m\u001b[0m\u001b[0;34m\u001b[0m\u001b[0m\n",
            "\u001b[0;32m/usr/local/lib/python3.10/dist-packages/xgboost/core.py\u001b[0m in \u001b[0;36m<lambda>\u001b[0;34m()\u001b[0m\n\u001b[1;32m    639\u001b[0m \u001b[0;34m\u001b[0m\u001b[0m\n\u001b[1;32m    640\u001b[0m         \u001b[0;31m# pylint: disable=not-callable\u001b[0m\u001b[0;34m\u001b[0m\u001b[0;34m\u001b[0m\u001b[0m\n\u001b[0;32m--> 641\u001b[0;31m         \u001b[0;32mreturn\u001b[0m \u001b[0mself\u001b[0m\u001b[0;34m.\u001b[0m\u001b[0m_handle_exception\u001b[0m\u001b[0;34m(\u001b[0m\u001b[0;32mlambda\u001b[0m\u001b[0;34m:\u001b[0m \u001b[0mself\u001b[0m\u001b[0;34m.\u001b[0m\u001b[0mnext\u001b[0m\u001b[0;34m(\u001b[0m\u001b[0minput_data\u001b[0m\u001b[0;34m)\u001b[0m\u001b[0;34m,\u001b[0m \u001b[0;36m0\u001b[0m\u001b[0;34m)\u001b[0m\u001b[0;34m\u001b[0m\u001b[0;34m\u001b[0m\u001b[0m\n\u001b[0m\u001b[1;32m    642\u001b[0m \u001b[0;34m\u001b[0m\u001b[0m\n\u001b[1;32m    643\u001b[0m     \u001b[0;34m@\u001b[0m\u001b[0mabstractmethod\u001b[0m\u001b[0;34m\u001b[0m\u001b[0;34m\u001b[0m\u001b[0m\n",
            "\u001b[0;32m/usr/local/lib/python3.10/dist-packages/xgboost/data.py\u001b[0m in \u001b[0;36mnext\u001b[0;34m(self, input_data)\u001b[0m\n\u001b[1;32m   1278\u001b[0m             \u001b[0;32mreturn\u001b[0m \u001b[0;36m0\u001b[0m\u001b[0;34m\u001b[0m\u001b[0;34m\u001b[0m\u001b[0m\n\u001b[1;32m   1279\u001b[0m         \u001b[0mself\u001b[0m\u001b[0;34m.\u001b[0m\u001b[0mit\u001b[0m \u001b[0;34m+=\u001b[0m \u001b[0;36m1\u001b[0m\u001b[0;34m\u001b[0m\u001b[0;34m\u001b[0m\u001b[0m\n\u001b[0;32m-> 1280\u001b[0;31m         \u001b[0minput_data\u001b[0m\u001b[0;34m(\u001b[0m\u001b[0;34m**\u001b[0m\u001b[0mself\u001b[0m\u001b[0;34m.\u001b[0m\u001b[0mkwargs\u001b[0m\u001b[0;34m)\u001b[0m\u001b[0;34m\u001b[0m\u001b[0;34m\u001b[0m\u001b[0m\n\u001b[0m\u001b[1;32m   1281\u001b[0m         \u001b[0;32mreturn\u001b[0m \u001b[0;36m1\u001b[0m\u001b[0;34m\u001b[0m\u001b[0;34m\u001b[0m\u001b[0m\n\u001b[1;32m   1282\u001b[0m \u001b[0;34m\u001b[0m\u001b[0m\n",
            "\u001b[0;32m/usr/local/lib/python3.10/dist-packages/xgboost/core.py\u001b[0m in \u001b[0;36minner_f\u001b[0;34m(*args, **kwargs)\u001b[0m\n\u001b[1;32m    728\u001b[0m             \u001b[0;32mfor\u001b[0m \u001b[0mk\u001b[0m\u001b[0;34m,\u001b[0m \u001b[0marg\u001b[0m \u001b[0;32min\u001b[0m \u001b[0mzip\u001b[0m\u001b[0;34m(\u001b[0m\u001b[0msig\u001b[0m\u001b[0;34m.\u001b[0m\u001b[0mparameters\u001b[0m\u001b[0;34m,\u001b[0m \u001b[0margs\u001b[0m\u001b[0;34m)\u001b[0m\u001b[0;34m:\u001b[0m\u001b[0;34m\u001b[0m\u001b[0;34m\u001b[0m\u001b[0m\n\u001b[1;32m    729\u001b[0m                 \u001b[0mkwargs\u001b[0m\u001b[0;34m[\u001b[0m\u001b[0mk\u001b[0m\u001b[0;34m]\u001b[0m \u001b[0;34m=\u001b[0m \u001b[0marg\u001b[0m\u001b[0;34m\u001b[0m\u001b[0;34m\u001b[0m\u001b[0m\n\u001b[0;32m--> 730\u001b[0;31m             \u001b[0;32mreturn\u001b[0m \u001b[0mfunc\u001b[0m\u001b[0;34m(\u001b[0m\u001b[0;34m**\u001b[0m\u001b[0mkwargs\u001b[0m\u001b[0;34m)\u001b[0m\u001b[0;34m\u001b[0m\u001b[0;34m\u001b[0m\u001b[0m\n\u001b[0m\u001b[1;32m    731\u001b[0m \u001b[0;34m\u001b[0m\u001b[0m\n\u001b[1;32m    732\u001b[0m         \u001b[0;32mreturn\u001b[0m \u001b[0minner_f\u001b[0m\u001b[0;34m\u001b[0m\u001b[0;34m\u001b[0m\u001b[0m\n",
            "\u001b[0;32m/usr/local/lib/python3.10/dist-packages/xgboost/core.py\u001b[0m in \u001b[0;36minput_data\u001b[0;34m(data, feature_names, feature_types, **kwargs)\u001b[0m\n\u001b[1;32m    631\u001b[0m             \u001b[0mself\u001b[0m\u001b[0;34m.\u001b[0m\u001b[0m_temporary_data\u001b[0m \u001b[0;34m=\u001b[0m \u001b[0;34m(\u001b[0m\u001b[0mnew\u001b[0m\u001b[0;34m,\u001b[0m \u001b[0mcat_codes\u001b[0m\u001b[0;34m,\u001b[0m \u001b[0mfeature_names\u001b[0m\u001b[0;34m,\u001b[0m \u001b[0mfeature_types\u001b[0m\u001b[0;34m)\u001b[0m\u001b[0;34m\u001b[0m\u001b[0;34m\u001b[0m\u001b[0m\n\u001b[1;32m    632\u001b[0m             \u001b[0mdispatch_proxy_set_data\u001b[0m\u001b[0;34m(\u001b[0m\u001b[0mself\u001b[0m\u001b[0;34m.\u001b[0m\u001b[0mproxy\u001b[0m\u001b[0;34m,\u001b[0m \u001b[0mnew\u001b[0m\u001b[0;34m,\u001b[0m \u001b[0mcat_codes\u001b[0m\u001b[0;34m,\u001b[0m \u001b[0mself\u001b[0m\u001b[0;34m.\u001b[0m\u001b[0m_allow_host\u001b[0m\u001b[0;34m)\u001b[0m\u001b[0;34m\u001b[0m\u001b[0;34m\u001b[0m\u001b[0m\n\u001b[0;32m--> 633\u001b[0;31m             self.proxy.set_info(\n\u001b[0m\u001b[1;32m    634\u001b[0m                 \u001b[0mfeature_names\u001b[0m\u001b[0;34m=\u001b[0m\u001b[0mfeature_names\u001b[0m\u001b[0;34m,\u001b[0m\u001b[0;34m\u001b[0m\u001b[0;34m\u001b[0m\u001b[0m\n\u001b[1;32m    635\u001b[0m                 \u001b[0mfeature_types\u001b[0m\u001b[0;34m=\u001b[0m\u001b[0mfeature_types\u001b[0m\u001b[0;34m,\u001b[0m\u001b[0;34m\u001b[0m\u001b[0;34m\u001b[0m\u001b[0m\n",
            "\u001b[0;32m/usr/local/lib/python3.10/dist-packages/xgboost/core.py\u001b[0m in \u001b[0;36minner_f\u001b[0;34m(*args, **kwargs)\u001b[0m\n\u001b[1;32m    728\u001b[0m             \u001b[0;32mfor\u001b[0m \u001b[0mk\u001b[0m\u001b[0;34m,\u001b[0m \u001b[0marg\u001b[0m \u001b[0;32min\u001b[0m \u001b[0mzip\u001b[0m\u001b[0;34m(\u001b[0m\u001b[0msig\u001b[0m\u001b[0;34m.\u001b[0m\u001b[0mparameters\u001b[0m\u001b[0;34m,\u001b[0m \u001b[0margs\u001b[0m\u001b[0;34m)\u001b[0m\u001b[0;34m:\u001b[0m\u001b[0;34m\u001b[0m\u001b[0;34m\u001b[0m\u001b[0m\n\u001b[1;32m    729\u001b[0m                 \u001b[0mkwargs\u001b[0m\u001b[0;34m[\u001b[0m\u001b[0mk\u001b[0m\u001b[0;34m]\u001b[0m \u001b[0;34m=\u001b[0m \u001b[0marg\u001b[0m\u001b[0;34m\u001b[0m\u001b[0;34m\u001b[0m\u001b[0m\n\u001b[0;32m--> 730\u001b[0;31m             \u001b[0;32mreturn\u001b[0m \u001b[0mfunc\u001b[0m\u001b[0;34m(\u001b[0m\u001b[0;34m**\u001b[0m\u001b[0mkwargs\u001b[0m\u001b[0;34m)\u001b[0m\u001b[0;34m\u001b[0m\u001b[0;34m\u001b[0m\u001b[0m\n\u001b[0m\u001b[1;32m    731\u001b[0m \u001b[0;34m\u001b[0m\u001b[0m\n\u001b[1;32m    732\u001b[0m         \u001b[0;32mreturn\u001b[0m \u001b[0minner_f\u001b[0m\u001b[0;34m\u001b[0m\u001b[0;34m\u001b[0m\u001b[0m\n",
            "\u001b[0;32m/usr/local/lib/python3.10/dist-packages/xgboost/core.py\u001b[0m in \u001b[0;36mset_info\u001b[0;34m(self, label, weight, base_margin, group, qid, label_lower_bound, label_upper_bound, feature_names, feature_types, feature_weights)\u001b[0m\n\u001b[1;32m    944\u001b[0m             \u001b[0mself\u001b[0m\u001b[0;34m.\u001b[0m\u001b[0mset_float_info\u001b[0m\u001b[0;34m(\u001b[0m\u001b[0;34m\"label_upper_bound\"\u001b[0m\u001b[0;34m,\u001b[0m \u001b[0mlabel_upper_bound\u001b[0m\u001b[0;34m)\u001b[0m\u001b[0;34m\u001b[0m\u001b[0;34m\u001b[0m\u001b[0m\n\u001b[1;32m    945\u001b[0m         \u001b[0;32mif\u001b[0m \u001b[0mfeature_names\u001b[0m \u001b[0;32mis\u001b[0m \u001b[0;32mnot\u001b[0m \u001b[0;32mNone\u001b[0m\u001b[0;34m:\u001b[0m\u001b[0;34m\u001b[0m\u001b[0;34m\u001b[0m\u001b[0m\n\u001b[0;32m--> 946\u001b[0;31m             \u001b[0mself\u001b[0m\u001b[0;34m.\u001b[0m\u001b[0mfeature_names\u001b[0m \u001b[0;34m=\u001b[0m \u001b[0mfeature_names\u001b[0m\u001b[0;34m\u001b[0m\u001b[0;34m\u001b[0m\u001b[0m\n\u001b[0m\u001b[1;32m    947\u001b[0m         \u001b[0;32mif\u001b[0m \u001b[0mfeature_types\u001b[0m \u001b[0;32mis\u001b[0m \u001b[0;32mnot\u001b[0m \u001b[0;32mNone\u001b[0m\u001b[0;34m:\u001b[0m\u001b[0;34m\u001b[0m\u001b[0;34m\u001b[0m\u001b[0m\n\u001b[1;32m    948\u001b[0m             \u001b[0mself\u001b[0m\u001b[0;34m.\u001b[0m\u001b[0mfeature_types\u001b[0m \u001b[0;34m=\u001b[0m \u001b[0mfeature_types\u001b[0m\u001b[0;34m\u001b[0m\u001b[0;34m\u001b[0m\u001b[0m\n",
            "\u001b[0;32m/usr/local/lib/python3.10/dist-packages/xgboost/core.py\u001b[0m in \u001b[0;36mfeature_names\u001b[0;34m(self, feature_names)\u001b[0m\n\u001b[1;32m   1311\u001b[0m             )\n\u001b[1;32m   1312\u001b[0m             \u001b[0mduplicates\u001b[0m \u001b[0;34m=\u001b[0m \u001b[0;34m[\u001b[0m\u001b[0mname\u001b[0m \u001b[0;32mfor\u001b[0m \u001b[0mname\u001b[0m\u001b[0;34m,\u001b[0m \u001b[0mcnt\u001b[0m \u001b[0;32min\u001b[0m \u001b[0mzip\u001b[0m\u001b[0;34m(\u001b[0m\u001b[0mvalues\u001b[0m\u001b[0;34m,\u001b[0m \u001b[0mcounts\u001b[0m\u001b[0;34m)\u001b[0m \u001b[0;32mif\u001b[0m \u001b[0mcnt\u001b[0m \u001b[0;34m>\u001b[0m \u001b[0;36m1\u001b[0m\u001b[0;34m]\u001b[0m\u001b[0;34m\u001b[0m\u001b[0;34m\u001b[0m\u001b[0m\n\u001b[0;32m-> 1313\u001b[0;31m             raise ValueError(\n\u001b[0m\u001b[1;32m   1314\u001b[0m                 \u001b[0;34mf\"feature_names must be unique. Duplicates found: {duplicates}\"\u001b[0m\u001b[0;34m\u001b[0m\u001b[0;34m\u001b[0m\u001b[0m\n\u001b[1;32m   1315\u001b[0m             )\n",
            "\u001b[0;31mValueError\u001b[0m: feature_names must be unique. Duplicates found: ['and', 'artificial', 'behavior', 'building', 'care', 'cell', 'change', 'chemical', 'cognitive', 'community', 'conservation', 'construction', 'control', 'design', 'development', 'ecology', 'economic', 'education', 'energy', 'engineering', 'environment', 'environmental', 'ethics', 'evolution', 'experimental', 'factors', 'food', 'fuel', 'global', 'health', 'history', 'human', 'in', 'information', 'intelligence', 'international', 'life', 'management', 'manufacturing', 'matter', 'mechanical', 'media', 'mental', 'modeling', 'molecular', 'monitoring', 'networks', 'of', 'oral', 'organic', 'performing', 'physical', 'planetary', 'planning', 'plant', 'policy', 'political', 'pollution', 'power', 'public', 'quality', 'renewable', 'research', 'resource', 'risk', 'safety', 'science', 'sciences', 'simulation', 'social', 'studies', 'surface', 'sustainability', 'systems', 'technology', 'the', 'transportation', 'urban', 'visual']"
          ]
        }
      ]
    },
    {
      "cell_type": "code",
      "source": [
        "import pandas as pd\n",
        "from sklearn.model_selection import train_test_split\n",
        "from sklearn.metrics import accuracy_score, precision_score, recall_score, f1_score\n",
        "from xgboost import XGBClassifier\n",
        "from sklearn.feature_extraction.text import TfidfVectorizer\n",
        "from sklearn.feature_extraction.text import CountVectorizer\n",
        "\n",
        "# Read in the train and validation data sets\n",
        "train_df = pd.read_csv('/content/drive/MyDrive/Colab Notebooks/CI_pubs_project/data/train_data.csv')\n",
        "validation_df = pd.read_csv('/content/drive/MyDrive/Colab Notebooks/CI_pubs_project/data/validation_data.csv')\n",
        "\n",
        "# Convert numeric-like columns to floats or ints where necessary\n",
        "train_df['Topic Cluster number'] = train_df['Topic Cluster number'].apply(lambda x: float(x) if x != '-' else -1)\n",
        "train_df['Topic number'] = train_df['Topic number'].apply(lambda x: float(x) if x != '-' else -1)\n",
        "validation_df['Topic Cluster number'] = validation_df['Topic Cluster number'].apply(lambda x: float(x) if x != '-' else -1)\n",
        "validation_df['Topic number'] = validation_df['Topic number'].apply(lambda x: float(x) if x != '-' else -1)\n",
        "\n",
        "# Generate a new feature based on Sustainable Development Goals\n",
        "sdg_keys = ['SDG 7', 'SDG 11', 'SDG 13', 'SDG 12', 'SDG 14', 'SDG 15']\n",
        "train_df['SDG_related'] = train_df['Sustainable Development Goals (2023)'].apply(lambda x: 1 if any(value in x for value in sdg_keys) else 0)\n",
        "validation_df['SDG_related'] = validation_df['Sustainable Development Goals (2023)'].apply(lambda x: 1 if any(value in x for value in sdg_keys) else 0)\n",
        "\n",
        "# Encode the Title column using TfidfVectorizer\n",
        "tfidf_vectorizer = TfidfVectorizer()\n",
        "X_train_title_encoded = tfidf_vectorizer.fit_transform(train_df['Title'])\n",
        "X_val_title_encoded = tfidf_vectorizer.transform(validation_df['Title'])\n",
        "\n",
        "# Prepare initial combined training and validation sets with encoded titles\n",
        "X_train_base = pd.DataFrame(X_train_title_encoded.toarray(), columns=[f\"title_{name}\" for name in tfidf_vectorizer.get_feature_names_out()])\n",
        "X_val_base = pd.DataFrame(X_val_title_encoded.toarray(), columns=[f\"title_{name}\" for name in tfidf_vectorizer.get_feature_names_out()])\n",
        "\n",
        "# Encode categorical columns and evaluate the model for each\n",
        "columns_to_encode = ['All Science Journal Classification (ASJC) field name',\n",
        "                     'Quacquarelli Symonds (QS) Subject area field name',\n",
        "                     'Quacquarelli Symonds (QS) Subject field name',\n",
        "                     'Times Higher Education (THE) field name']\n",
        "\n",
        "for col in columns_to_encode:\n",
        "    vectorizer = CountVectorizer()\n",
        "    X_train_encoded_col = vectorizer.fit_transform(train_df[col])\n",
        "    X_val_encoded_col = vectorizer.transform(validation_df[col])\n",
        "\n",
        "    # Combine all features: topic numbers, SDG-related, encoded titles, and current encoded categorical column\n",
        "    X_train_combined = pd.concat([\n",
        "        train_df[['Topic Cluster number', 'Topic number']].reset_index(drop=True),\n",
        "        train_df['SDG_related'].reset_index(drop=True),\n",
        "        X_train_base,\n",
        "        pd.DataFrame(X_train_encoded_col.toarray(), columns=[f\"{col}_{name}\" for name in vectorizer.get_feature_names_out()])\n",
        "    ], axis=1)\n",
        "\n",
        "    X_val_combined = pd.concat([\n",
        "        validation_df[['Topic Cluster number', 'Topic number']].reset_index(drop=True),\n",
        "        validation_df['SDG_related'].reset_index(drop=True),\n",
        "        X_val_base,\n",
        "        pd.DataFrame(X_val_encoded_col.toarray(), columns=[f\"{col}_{name}\" for name in vectorizer.get_feature_names_out()])\n",
        "    ], axis=1)\n",
        "\n",
        "    # Train the XGBoost model\n",
        "    model = XGBClassifier(objective='binary:logistic', seed=42)\n",
        "    model.fit(X_train_combined, train_df['Target'])\n",
        "\n",
        "    # Predict and calculate metrics\n",
        "    y_pred = model.predict(X_val_combined)\n",
        "    accuracy = accuracy_score(validation_df['Target'], y_pred)\n",
        "    precision = precision_score(validation_df['Target'], y_pred)\n",
        "    recall = recall_score(validation_df['Target'], y_pred)\n",
        "    f1 = f1_score(validation_df['Target'], y_pred)\n",
        "\n",
        "    # Print results for each category\n",
        "    print(f\"Results for column '{col}':\")\n",
        "    print(f\"Accuracy: {accuracy:.2f}, Precision: {precision:.2f}, Recall: {recall:.2f}, F1 Score: {f1:.2f}\")\n"
      ],
      "metadata": {
        "colab": {
          "base_uri": "https://localhost:8080/"
        },
        "id": "rXlqd2t88gYm",
        "outputId": "d84e5930-6fbe-48d5-840c-ff855ad01c59"
      },
      "execution_count": null,
      "outputs": [
        {
          "output_type": "stream",
          "name": "stdout",
          "text": [
            "Results for column 'All Science Journal Classification (ASJC) field name':\n",
            "Accuracy: 0.77, Precision: 0.70, Recall: 0.68, F1 Score: 0.69\n",
            "Results for column 'Quacquarelli Symonds (QS) Subject area field name':\n",
            "Accuracy: 0.79, Precision: 0.79, Recall: 0.61, F1 Score: 0.69\n",
            "Results for column 'Quacquarelli Symonds (QS) Subject field name':\n",
            "Accuracy: 0.80, Precision: 0.78, Recall: 0.68, F1 Score: 0.72\n",
            "Results for column 'Times Higher Education (THE) field name':\n",
            "Accuracy: 0.78, Precision: 0.74, Recall: 0.65, F1 Score: 0.69\n"
          ]
        }
      ]
    },
    {
      "cell_type": "code",
      "source": [
        "# prompt: Use 'Quacquarelli Symonds (QS) Subject field name' and add it to the XGboost model then produce the results using the validation set. Use the code above fore reference.\n",
        "\n",
        "import pandas as pd\n",
        "# Encode the 'Quacquarelli Symonds (QS) Subject field name' column\n",
        "vectorizer = CountVectorizer()\n",
        "X_train_encoded_qs_subject = vectorizer.fit_transform(train_df['Quacquarelli Symonds (QS) Subject field name'])\n",
        "X_val_encoded_qs_subject = vectorizer.transform(validation_df['Quacquarelli Symonds (QS) Subject field name'])\n",
        "\n",
        "# Combine all features: topic numbers, SDG-related, encoded titles, and encoded 'Quacquarelli Symonds (QS) Subject field name'\n",
        "X_train_combined = pd.concat([\n",
        "    train_df[['Topic Cluster number', 'Topic number']].reset_index(drop=True),\n",
        "    train_df['SDG_related'].reset_index(drop=True),\n",
        "    X_train_base,\n",
        "    pd.DataFrame(X_train_encoded_qs_subject.toarray(), columns=[f\"QS_subject_{name}\" for name in vectorizer.get_feature_names_out()])\n",
        "], axis=1)\n",
        "\n",
        "X_val_combined = pd.concat([\n",
        "    validation_df[['Topic Cluster number', 'Topic number']].reset_index(drop=True),\n",
        "    validation_df['SDG_related'].reset_index(drop=True),\n",
        "    X_val_base,\n",
        "    pd.DataFrame(X_val_encoded_qs_subject.toarray(), columns=[f\"QS_subject_{name}\" for name in vectorizer.get_feature_names_out()])\n",
        "], axis=1)\n",
        "\n",
        "# Train the XGBoost model\n",
        "model = XGBClassifier(objective='binary:logistic', seed=42)\n",
        "model.fit(X_train_combined, train_df['Target'])\n",
        "\n",
        "# Predict and calculate metrics\n",
        "y_pred = model.predict(X_val_combined)\n",
        "accuracy = accuracy_score(validation_df['Target'], y_pred)\n",
        "precision = precision_score(validation_df['Target'], y_pred)\n",
        "recall = recall_score(validation_df['Target'], y_pred)\n",
        "f1 = f1_score(validation_df['Target'], y_pred)\n",
        "\n",
        "# Print the results\n",
        "print(f\"Accuracy: {accuracy:.2f}, Precision: {precision:.2f}, Recall: {recall:.2f}, F1 Score: {f1:.2f}\")\n"
      ],
      "metadata": {
        "colab": {
          "base_uri": "https://localhost:8080/"
        },
        "id": "gsOWr4JX8pGC",
        "outputId": "bd5421b6-7471-4202-e4bf-cd4ca010b791"
      },
      "execution_count": null,
      "outputs": [
        {
          "output_type": "stream",
          "name": "stdout",
          "text": [
            "Accuracy: 0.80, Precision: 0.78, Recall: 0.68, F1 Score: 0.72\n"
          ]
        }
      ]
    },
    {
      "cell_type": "code",
      "source": [
        "import pandas as pd\n",
        "from sklearn.feature_extraction.text import CountVectorizer\n",
        "from xgboost import XGBClassifier\n",
        "from sklearn.metrics import accuracy_score, precision_score, recall_score, f1_score\n",
        "\n",
        "# Assuming test_df is already loaded and has the same structure\n",
        "# If test_df is not loaded, you might need to read it similarly to train_df and validation_df:\n",
        "# test_df = pd.read_csv('/path_to_your_data/test_data.csv')\n",
        "\n",
        "# Assuming vectorizer is already fitted to the training data as shown previously\n",
        "\n",
        "# Encode the 'Quacquarelli Symonds (QS) Subject field name' column for the test set\n",
        "X_test_encoded_qs_subject = vectorizer.transform(test_df['Quacquarelli Symonds (QS) Subject field name'])\n",
        "\n",
        "# Combine all features for the test set\n",
        "X_test_combined = pd.concat([\n",
        "    test_df[['Topic Cluster number', 'Topic number']].reset_index(drop=True),\n",
        "    test_df['SDG_related'].reset_index(drop=True),\n",
        "    pd.DataFrame(tfidf_vectorizer.transform(test_df['Title']).toarray(), columns=[f\"title_{name}\" for name in tfidf_vectorizer.get_feature_names_out()]),\n",
        "    pd.DataFrame(X_test_encoded_qs_subject.toarray(), columns=[f\"QS_subject_{name}\" for name in vectorizer.get_feature_names_out()])\n",
        "], axis=1)\n",
        "\n",
        "# Predict using the trained model\n",
        "y_test_pred = model.predict(X_test_combined)\n",
        "\n",
        "# Calculate metrics for the test set\n",
        "test_accuracy = accuracy_score(test_df['Target'], y_test_pred)\n",
        "test_precision = precision_score(test_df['Target'], y_test_pred)\n",
        "test_recall = recall_score(test_df['Target'], y_test_pred)\n",
        "test_f1 = f1_score(test_df['Target'], y_test_pred)\n",
        "\n",
        "# Print the results for the test set\n",
        "print(f\"Test Set Results - Accuracy: {test_accuracy:.2f}, Precision: {test_precision:.2f}, Recall: {test_recall:.2f}, F1 Score: {test_f1:.2f}\")\n"
      ],
      "metadata": {
        "colab": {
          "base_uri": "https://localhost:8080/"
        },
        "id": "-MZmnZUZ9Jth",
        "outputId": "b6d9c9f2-8e99-4027-91cd-e1dd6573d3e7"
      },
      "execution_count": null,
      "outputs": [
        {
          "output_type": "stream",
          "name": "stdout",
          "text": [
            "Test Set Results - Accuracy: 0.77, Precision: 0.83, Recall: 0.69, F1 Score: 0.75\n"
          ]
        }
      ]
    }
  ]
}